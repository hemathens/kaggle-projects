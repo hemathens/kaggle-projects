{
 "cells": [
  {
   "cell_type": "code",
   "execution_count": 1,
   "id": "6711626e",
   "metadata": {
    "_cell_guid": "b1076dfc-b9ad-4769-8c92-a6c4dae69d19",
    "_uuid": "8f2839f25d086af736a60e9eeb907d3b93b6e0e5",
    "execution": {
     "iopub.execute_input": "2025-06-04T09:50:49.927492Z",
     "iopub.status.busy": "2025-06-04T09:50:49.926849Z",
     "iopub.status.idle": "2025-06-04T09:50:51.493354Z",
     "shell.execute_reply": "2025-06-04T09:50:51.492747Z"
    },
    "papermill": {
     "duration": 1.573336,
     "end_time": "2025-06-04T09:50:51.494500",
     "exception": false,
     "start_time": "2025-06-04T09:50:49.921164",
     "status": "completed"
    },
    "tags": []
   },
   "outputs": [
    {
     "name": "stdout",
     "output_type": "stream",
     "text": [
      "/kaggle/input/house-prices-advanced-regression-techniques/sample_submission.csv\n",
      "/kaggle/input/house-prices-advanced-regression-techniques/data_description.txt\n",
      "/kaggle/input/house-prices-advanced-regression-techniques/train.csv\n",
      "/kaggle/input/house-prices-advanced-regression-techniques/test.csv\n"
     ]
    }
   ],
   "source": [
    "# This Python 3 environment comes with many helpful analytics libraries installed\n",
    "# It is defined by the kaggle/python Docker image: https://github.com/kaggle/docker-python\n",
    "# For example, here's several helpful packages to load\n",
    "\n",
    "import numpy as np # linear algebra\n",
    "import pandas as pd # data processing, CSV file I/O (e.g. pd.read_csv)\n",
    "\n",
    "# Input data files are available in the read-only \"../input/\" directory\n",
    "# For example, running this (by clicking run or pressing Shift+Enter) will list all files under the input directory\n",
    "\n",
    "import os\n",
    "for dirname, _, filenames in os.walk('/kaggle/input'):\n",
    "    for filename in filenames:\n",
    "        print(os.path.join(dirname, filename))\n",
    "\n",
    "# You can write up to 20GB to the current directory (/kaggle/working/) that gets preserved as output when you create a version using \"Save & Run All\" \n",
    "# You can also write temporary files to /kaggle/temp/, but they won't be saved outside of the current session"
   ]
  },
  {
   "cell_type": "markdown",
   "id": "a8adcb64",
   "metadata": {
    "papermill": {
     "duration": 0.003071,
     "end_time": "2025-06-04T09:50:51.501195",
     "exception": false,
     "start_time": "2025-06-04T09:50:51.498124",
     "status": "completed"
    },
    "tags": []
   },
   "source": [
    "# Imports"
   ]
  },
  {
   "cell_type": "code",
   "execution_count": 2,
   "id": "1a5d91e2",
   "metadata": {
    "execution": {
     "iopub.execute_input": "2025-06-04T09:50:51.508414Z",
     "iopub.status.busy": "2025-06-04T09:50:51.508061Z",
     "iopub.status.idle": "2025-06-04T09:50:59.494958Z",
     "shell.execute_reply": "2025-06-04T09:50:59.494188Z"
    },
    "papermill": {
     "duration": 7.992101,
     "end_time": "2025-06-04T09:50:59.496345",
     "exception": false,
     "start_time": "2025-06-04T09:50:51.504244",
     "status": "completed"
    },
    "tags": []
   },
   "outputs": [],
   "source": [
    "# Import Libraries\n",
    "import numpy as np\n",
    "import pandas as pd\n",
    "from sklearn.model_selection import KFold, cross_val_score\n",
    "from sklearn.metrics import mean_squared_error\n",
    "from sklearn.preprocessing import LabelEncoder\n",
    "from scipy.stats import skew\n",
    "from sklearn.linear_model import Ridge\n",
    "import xgboost as xgb\n",
    "import lightgbm as lgb\n",
    "from catboost import CatBoostRegressor\n",
    "import warnings\n",
    "warnings.filterwarnings('ignore')"
   ]
  },
  {
   "cell_type": "markdown",
   "id": "fb5db81b",
   "metadata": {
    "papermill": {
     "duration": 0.002905,
     "end_time": "2025-06-04T09:50:59.502815",
     "exception": false,
     "start_time": "2025-06-04T09:50:59.499910",
     "status": "completed"
    },
    "tags": []
   },
   "source": [
    "# Load Data"
   ]
  },
  {
   "cell_type": "code",
   "execution_count": 3,
   "id": "5caa5ece",
   "metadata": {
    "execution": {
     "iopub.execute_input": "2025-06-04T09:50:59.511528Z",
     "iopub.status.busy": "2025-06-04T09:50:59.511004Z",
     "iopub.status.idle": "2025-06-04T09:50:59.629363Z",
     "shell.execute_reply": "2025-06-04T09:50:59.628274Z"
    },
    "papermill": {
     "duration": 0.124052,
     "end_time": "2025-06-04T09:50:59.630926",
     "exception": false,
     "start_time": "2025-06-04T09:50:59.506874",
     "status": "completed"
    },
    "tags": []
   },
   "outputs": [],
   "source": [
    "train = pd.read_csv('/kaggle/input/house-prices-advanced-regression-techniques/train.csv')\n",
    "test = pd.read_csv('/kaggle/input/house-prices-advanced-regression-techniques/test.csv')\n",
    "train_ID = train['Id']\n",
    "test_ID = test['Id']\n",
    "train.drop(\"Id\", axis=1, inplace=True)\n",
    "test.drop(\"Id\", axis=1, inplace=True)"
   ]
  },
  {
   "cell_type": "markdown",
   "id": "b2593faa",
   "metadata": {
    "papermill": {
     "duration": 0.002993,
     "end_time": "2025-06-04T09:50:59.637492",
     "exception": false,
     "start_time": "2025-06-04T09:50:59.634499",
     "status": "completed"
    },
    "tags": []
   },
   "source": [
    "# Target variable\n"
   ]
  },
  {
   "cell_type": "code",
   "execution_count": 4,
   "id": "b30a0322",
   "metadata": {
    "execution": {
     "iopub.execute_input": "2025-06-04T09:50:59.644861Z",
     "iopub.status.busy": "2025-06-04T09:50:59.644538Z",
     "iopub.status.idle": "2025-06-04T09:50:59.652695Z",
     "shell.execute_reply": "2025-06-04T09:50:59.651793Z"
    },
    "papermill": {
     "duration": 0.013751,
     "end_time": "2025-06-04T09:50:59.654339",
     "exception": false,
     "start_time": "2025-06-04T09:50:59.640588",
     "status": "completed"
    },
    "tags": []
   },
   "outputs": [],
   "source": [
    "y = train.SalePrice\n",
    "train.drop(['SalePrice'], axis=1, inplace=True)\n",
    "data = pd.concat([train, test], axis=0)"
   ]
  },
  {
   "cell_type": "markdown",
   "id": "c3b657cd",
   "metadata": {
    "papermill": {
     "duration": 0.00306,
     "end_time": "2025-06-04T09:50:59.661110",
     "exception": false,
     "start_time": "2025-06-04T09:50:59.658050",
     "status": "completed"
    },
    "tags": []
   },
   "source": [
    "# Handle missing values\n"
   ]
  },
  {
   "cell_type": "code",
   "execution_count": 5,
   "id": "97812247",
   "metadata": {
    "execution": {
     "iopub.execute_input": "2025-06-04T09:50:59.668905Z",
     "iopub.status.busy": "2025-06-04T09:50:59.668587Z",
     "iopub.status.idle": "2025-06-04T09:50:59.704772Z",
     "shell.execute_reply": "2025-06-04T09:50:59.703831Z"
    },
    "papermill": {
     "duration": 0.042034,
     "end_time": "2025-06-04T09:50:59.706334",
     "exception": false,
     "start_time": "2025-06-04T09:50:59.664300",
     "status": "completed"
    },
    "tags": []
   },
   "outputs": [],
   "source": [
    "data['PoolQC'] = data['PoolQC'].fillna(\"None\")\n",
    "data['MiscFeature'] = data['MiscFeature'].fillna(\"None\")\n",
    "data['Alley'] = data['Alley'].fillna(\"None\")\n",
    "data['Fence'] = data['Fence'].fillna(\"None\")\n",
    "data['FireplaceQu'] = data['FireplaceQu'].fillna(\"None\")\n",
    "\n",
    "for col in ('GarageType', 'GarageFinish', 'GarageQual', 'GarageCond'):\n",
    "    data[col] = data[col].fillna(\"None\")\n",
    "\n",
    "for col in ('GarageYrBlt', 'GarageArea', 'GarageCars'):\n",
    "    data[col] = data[col].fillna(0)\n",
    "\n",
    "for col in ('BsmtFinType2', 'BsmtExposure', 'BsmtFinType1', 'BsmtCond', 'BsmtQual'):\n",
    "    data[col] = data[col].fillna(\"None\")\n",
    "\n",
    "for col in ('MasVnrType', 'MasVnrArea'):\n",
    "    data[col] = data[col].fillna(\"None\" if col == \"MasVnrType\" else 0)\n",
    "\n",
    "data['MSZoning'] = data['MSZoning'].fillna(data['MSZoning'].mode()[0])\n",
    "data['Functional'] = data['Functional'].fillna(\"Typ\")\n",
    "data['Electrical'] = data['Electrical'].fillna(data['Electrical'].mode()[0])\n",
    "data['KitchenQual'] = data['KitchenQual'].fillna(data['KitchenQual'].mode()[0])\n",
    "data['Exterior1st'] = data['Exterior1st'].fillna(data['Exterior1st'].mode()[0])\n",
    "data['Exterior2nd'] = data['Exterior2nd'].fillna(data['Exterior2nd'].mode()[0])\n",
    "data['SaleType'] = data['SaleType'].fillna(data['SaleType'].mode()[0])\n",
    "data['Utilities'] = data['Utilities'].fillna(data['Utilities'].mode()[0])\n",
    "data['LotFrontage'] = data.groupby(\"Neighborhood\")[\"LotFrontage\"].transform(lambda x: x.fillna(x.median()))\n"
   ]
  },
  {
   "cell_type": "markdown",
   "id": "6e23941b",
   "metadata": {
    "papermill": {
     "duration": 0.002957,
     "end_time": "2025-06-04T09:50:59.713273",
     "exception": false,
     "start_time": "2025-06-04T09:50:59.710316",
     "status": "completed"
    },
    "tags": []
   },
   "source": [
    "# Label Encoding\n"
   ]
  },
  {
   "cell_type": "code",
   "execution_count": 6,
   "id": "cc7edbc0",
   "metadata": {
    "execution": {
     "iopub.execute_input": "2025-06-04T09:50:59.720588Z",
     "iopub.status.busy": "2025-06-04T09:50:59.720341Z",
     "iopub.status.idle": "2025-06-04T09:50:59.755824Z",
     "shell.execute_reply": "2025-06-04T09:50:59.754769Z"
    },
    "papermill": {
     "duration": 0.040738,
     "end_time": "2025-06-04T09:50:59.757164",
     "exception": false,
     "start_time": "2025-06-04T09:50:59.716426",
     "status": "completed"
    },
    "tags": []
   },
   "outputs": [],
   "source": [
    "cols = data.select_dtypes(include=[\"object\"]).columns\n",
    "for col in cols:\n",
    "    lbl = LabelEncoder()\n",
    "    data[col] = lbl.fit_transform(data[col].astype(str))\n",
    "\n",
    "# Add TotalSF feature\n",
    "data['TotalSF'] = data['TotalBsmtSF'] + data['1stFlrSF'] + data['2ndFlrSF']"
   ]
  },
  {
   "cell_type": "markdown",
   "id": "dccfc92c",
   "metadata": {
    "papermill": {
     "duration": 0.002925,
     "end_time": "2025-06-04T09:50:59.763768",
     "exception": false,
     "start_time": "2025-06-04T09:50:59.760843",
     "status": "completed"
    },
    "tags": []
   },
   "source": [
    "# Handle skewness\n"
   ]
  },
  {
   "cell_type": "code",
   "execution_count": 7,
   "id": "93fac118",
   "metadata": {
    "execution": {
     "iopub.execute_input": "2025-06-04T09:50:59.771368Z",
     "iopub.status.busy": "2025-06-04T09:50:59.771112Z",
     "iopub.status.idle": "2025-06-04T09:50:59.836374Z",
     "shell.execute_reply": "2025-06-04T09:50:59.835567Z"
    },
    "papermill": {
     "duration": 0.070977,
     "end_time": "2025-06-04T09:50:59.837825",
     "exception": false,
     "start_time": "2025-06-04T09:50:59.766848",
     "status": "completed"
    },
    "tags": []
   },
   "outputs": [],
   "source": [
    "numeric_feats = data.dtypes[data.dtypes != \"object\"].index\n",
    "skewed_feats = data[numeric_feats].apply(lambda x: skew(x.dropna())).sort_values(ascending=False)\n",
    "skewness = skewed_feats[abs(skewed_feats) > 0.75]\n",
    "for feat in skewness.index:\n",
    "    data[feat] = np.log1p(data[feat])"
   ]
  },
  {
   "cell_type": "markdown",
   "id": "960ae71d",
   "metadata": {
    "papermill": {
     "duration": 0.002922,
     "end_time": "2025-06-04T09:50:59.844833",
     "exception": false,
     "start_time": "2025-06-04T09:50:59.841911",
     "status": "completed"
    },
    "tags": []
   },
   "source": [
    "# Split back to train/test\n"
   ]
  },
  {
   "cell_type": "code",
   "execution_count": 8,
   "id": "c116be12",
   "metadata": {
    "execution": {
     "iopub.execute_input": "2025-06-04T09:50:59.852359Z",
     "iopub.status.busy": "2025-06-04T09:50:59.852040Z",
     "iopub.status.idle": "2025-06-04T09:50:59.856357Z",
     "shell.execute_reply": "2025-06-04T09:50:59.855747Z"
    },
    "papermill": {
     "duration": 0.009411,
     "end_time": "2025-06-04T09:50:59.857297",
     "exception": false,
     "start_time": "2025-06-04T09:50:59.847886",
     "status": "completed"
    },
    "tags": []
   },
   "outputs": [],
   "source": [
    "X = data[:train.shape[0]]\n",
    "X_test = data[train.shape[0]:]"
   ]
  },
  {
   "cell_type": "markdown",
   "id": "a31a7ce0",
   "metadata": {
    "papermill": {
     "duration": 0.002794,
     "end_time": "2025-06-04T09:50:59.863409",
     "exception": false,
     "start_time": "2025-06-04T09:50:59.860615",
     "status": "completed"
    },
    "tags": []
   },
   "source": [
    "# Log transform target\n"
   ]
  },
  {
   "cell_type": "code",
   "execution_count": 9,
   "id": "73530b74",
   "metadata": {
    "execution": {
     "iopub.execute_input": "2025-06-04T09:50:59.870527Z",
     "iopub.status.busy": "2025-06-04T09:50:59.870235Z",
     "iopub.status.idle": "2025-06-04T09:50:59.874835Z",
     "shell.execute_reply": "2025-06-04T09:50:59.874074Z"
    },
    "papermill": {
     "duration": 0.010025,
     "end_time": "2025-06-04T09:50:59.876376",
     "exception": false,
     "start_time": "2025-06-04T09:50:59.866351",
     "status": "completed"
    },
    "tags": []
   },
   "outputs": [],
   "source": [
    "y = np.log1p(y)\n"
   ]
  },
  {
   "cell_type": "markdown",
   "id": "42d2e84b",
   "metadata": {
    "papermill": {
     "duration": 0.002946,
     "end_time": "2025-06-04T09:50:59.883122",
     "exception": false,
     "start_time": "2025-06-04T09:50:59.880176",
     "status": "completed"
    },
    "tags": []
   },
   "source": [
    "# Final check for any missing values\n"
   ]
  },
  {
   "cell_type": "code",
   "execution_count": 10,
   "id": "aaeff5f8",
   "metadata": {
    "execution": {
     "iopub.execute_input": "2025-06-04T09:50:59.890352Z",
     "iopub.status.busy": "2025-06-04T09:50:59.890109Z",
     "iopub.status.idle": "2025-06-04T09:50:59.921915Z",
     "shell.execute_reply": "2025-06-04T09:50:59.920927Z"
    },
    "papermill": {
     "duration": 0.037133,
     "end_time": "2025-06-04T09:50:59.923366",
     "exception": false,
     "start_time": "2025-06-04T09:50:59.886233",
     "status": "completed"
    },
    "tags": []
   },
   "outputs": [],
   "source": [
    "# Final check for any missing values\n",
    "X = X.fillna(X.median())\n",
    "X_test = X_test.fillna(X.median())"
   ]
  },
  {
   "cell_type": "markdown",
   "id": "e3a79ede",
   "metadata": {
    "papermill": {
     "duration": 0.00291,
     "end_time": "2025-06-04T09:50:59.929934",
     "exception": false,
     "start_time": "2025-06-04T09:50:59.927024",
     "status": "completed"
    },
    "tags": []
   },
   "source": [
    "# Define models\n"
   ]
  },
  {
   "cell_type": "code",
   "execution_count": 11,
   "id": "ac7c4701",
   "metadata": {
    "execution": {
     "iopub.execute_input": "2025-06-04T09:50:59.937094Z",
     "iopub.status.busy": "2025-06-04T09:50:59.936794Z",
     "iopub.status.idle": "2025-06-04T09:50:59.944634Z",
     "shell.execute_reply": "2025-06-04T09:50:59.943489Z"
    },
    "papermill": {
     "duration": 0.013185,
     "end_time": "2025-06-04T09:50:59.946072",
     "exception": false,
     "start_time": "2025-06-04T09:50:59.932887",
     "status": "completed"
    },
    "tags": []
   },
   "outputs": [],
   "source": [
    "def rmsle_cv(model):\n",
    "    kf = KFold(5, shuffle=True, random_state=42).get_n_splits(X)\n",
    "    rmse = np.sqrt(-cross_val_score(model, X, y, scoring=\"neg_mean_squared_error\", cv=kf))\n",
    "    return rmse.mean()\n",
    "\n",
    "ridge = Ridge(alpha=20)\n",
    "xgb_model = xgb.XGBRegressor(n_estimators=500, learning_rate=0.05, max_depth=3, subsample=0.7)\n",
    "lgb_model = lgb.LGBMRegressor(objective='regression', num_leaves=4, learning_rate=0.01, n_estimators=5000)\n",
    "cat_model = CatBoostRegressor(iterations=500, learning_rate=0.05, depth=3, verbose=False)"
   ]
  },
  {
   "cell_type": "markdown",
   "id": "b79ab0bc",
   "metadata": {
    "papermill": {
     "duration": 0.003496,
     "end_time": "2025-06-04T09:50:59.952959",
     "exception": false,
     "start_time": "2025-06-04T09:50:59.949463",
     "status": "completed"
    },
    "tags": []
   },
   "source": [
    "# Fit all models\n"
   ]
  },
  {
   "cell_type": "code",
   "execution_count": 12,
   "id": "ca2ca0ac",
   "metadata": {
    "execution": {
     "iopub.execute_input": "2025-06-04T09:50:59.960548Z",
     "iopub.status.busy": "2025-06-04T09:50:59.960283Z",
     "iopub.status.idle": "2025-06-04T09:51:02.051281Z",
     "shell.execute_reply": "2025-06-04T09:51:02.050152Z"
    },
    "papermill": {
     "duration": 2.095911,
     "end_time": "2025-06-04T09:51:02.052387",
     "exception": false,
     "start_time": "2025-06-04T09:50:59.956476",
     "status": "completed"
    },
    "tags": []
   },
   "outputs": [
    {
     "name": "stdout",
     "output_type": "stream",
     "text": [
      "[LightGBM] [Info] Auto-choosing row-wise multi-threading, the overhead of testing was 0.004893 seconds.\n",
      "You can set `force_row_wise=true` to remove the overhead.\n",
      "And if memory is not enough, you can set `force_col_wise=true`.\n",
      "[LightGBM] [Info] Total Bins 3644\n",
      "[LightGBM] [Info] Number of data points in the train set: 1460, number of used features: 75\n",
      "[LightGBM] [Info] Start training from score 12.024057\n"
     ]
    },
    {
     "data": {
      "text/plain": [
       "<catboost.core.CatBoostRegressor at 0x7d9cdc18c450>"
      ]
     },
     "execution_count": 12,
     "metadata": {},
     "output_type": "execute_result"
    }
   ],
   "source": [
    "ridge.fit(X, y)\n",
    "xgb_model.fit(X, y)\n",
    "lgb_model.fit(X, y)\n",
    "cat_model.fit(X, y)\n"
   ]
  },
  {
   "cell_type": "markdown",
   "id": "8dfd7076",
   "metadata": {
    "papermill": {
     "duration": 0.003268,
     "end_time": "2025-06-04T09:51:02.059459",
     "exception": false,
     "start_time": "2025-06-04T09:51:02.056191",
     "status": "completed"
    },
    "tags": []
   },
   "source": [
    "# Average predictions\n"
   ]
  },
  {
   "cell_type": "code",
   "execution_count": 13,
   "id": "6abef62c",
   "metadata": {
    "execution": {
     "iopub.execute_input": "2025-06-04T09:51:02.067353Z",
     "iopub.status.busy": "2025-06-04T09:51:02.066584Z",
     "iopub.status.idle": "2025-06-04T09:51:02.204455Z",
     "shell.execute_reply": "2025-06-04T09:51:02.203553Z"
    },
    "papermill": {
     "duration": 0.143118,
     "end_time": "2025-06-04T09:51:02.205751",
     "exception": false,
     "start_time": "2025-06-04T09:51:02.062633",
     "status": "completed"
    },
    "tags": []
   },
   "outputs": [],
   "source": [
    "pred_ridge = ridge.predict(X_test)\n",
    "pred_xgb = xgb_model.predict(X_test)\n",
    "pred_lgb = lgb_model.predict(X_test)\n",
    "pred_cat = cat_model.predict(X_test)\n"
   ]
  },
  {
   "cell_type": "markdown",
   "id": "80c3f4e8",
   "metadata": {
    "papermill": {
     "duration": 0.003053,
     "end_time": "2025-06-04T09:51:02.212789",
     "exception": false,
     "start_time": "2025-06-04T09:51:02.209736",
     "status": "completed"
    },
    "tags": []
   },
   "source": [
    "# Final blended prediction\n"
   ]
  },
  {
   "cell_type": "code",
   "execution_count": 14,
   "id": "5ef35c07",
   "metadata": {
    "execution": {
     "iopub.execute_input": "2025-06-04T09:51:02.220228Z",
     "iopub.status.busy": "2025-06-04T09:51:02.219965Z",
     "iopub.status.idle": "2025-06-04T09:51:02.225305Z",
     "shell.execute_reply": "2025-06-04T09:51:02.224531Z"
    },
    "papermill": {
     "duration": 0.010778,
     "end_time": "2025-06-04T09:51:02.226809",
     "exception": false,
     "start_time": "2025-06-04T09:51:02.216031",
     "status": "completed"
    },
    "tags": []
   },
   "outputs": [],
   "source": [
    "final_preds = (pred_ridge + pred_xgb + pred_lgb + pred_cat) / 4\n",
    "final_preds = np.expm1(final_preds)"
   ]
  },
  {
   "cell_type": "markdown",
   "id": "19b3a141",
   "metadata": {
    "papermill": {
     "duration": 0.003131,
     "end_time": "2025-06-04T09:51:02.233922",
     "exception": false,
     "start_time": "2025-06-04T09:51:02.230791",
     "status": "completed"
    },
    "tags": []
   },
   "source": [
    "# Submission\n"
   ]
  },
  {
   "cell_type": "code",
   "execution_count": 15,
   "id": "d40b8660",
   "metadata": {
    "execution": {
     "iopub.execute_input": "2025-06-04T09:51:02.241584Z",
     "iopub.status.busy": "2025-06-04T09:51:02.241334Z",
     "iopub.status.idle": "2025-06-04T09:51:02.254869Z",
     "shell.execute_reply": "2025-06-04T09:51:02.253966Z"
    },
    "papermill": {
     "duration": 0.019068,
     "end_time": "2025-06-04T09:51:02.256259",
     "exception": false,
     "start_time": "2025-06-04T09:51:02.237191",
     "status": "completed"
    },
    "tags": []
   },
   "outputs": [],
   "source": [
    "sub = pd.DataFrame()\n",
    "sub['Id'] = test_ID\n",
    "sub['SalePrice'] = final_preds\n",
    "sub.to_csv('submission.csv', index=False)"
   ]
  }
 ],
 "metadata": {
  "kaggle": {
   "accelerator": "none",
   "dataSources": [
    {
     "databundleVersionId": 868283,
     "sourceId": 5407,
     "sourceType": "competition"
    }
   ],
   "dockerImageVersionId": 31040,
   "isGpuEnabled": false,
   "isInternetEnabled": true,
   "language": "python",
   "sourceType": "notebook"
  },
  "kernelspec": {
   "display_name": "Python 3",
   "language": "python",
   "name": "python3"
  },
  "language_info": {
   "codemirror_mode": {
    "name": "ipython",
    "version": 3
   },
   "file_extension": ".py",
   "mimetype": "text/x-python",
   "name": "python",
   "nbconvert_exporter": "python",
   "pygments_lexer": "ipython3",
   "version": "3.11.11"
  },
  "papermill": {
   "default_parameters": {},
   "duration": 17.406623,
   "end_time": "2025-06-04T09:51:03.179110",
   "environment_variables": {},
   "exception": null,
   "input_path": "__notebook__.ipynb",
   "output_path": "__notebook__.ipynb",
   "parameters": {},
   "start_time": "2025-06-04T09:50:45.772487",
   "version": "2.6.0"
  }
 },
 "nbformat": 4,
 "nbformat_minor": 5
}
