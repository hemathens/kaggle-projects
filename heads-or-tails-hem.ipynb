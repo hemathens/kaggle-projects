{
 "cells": [
  {
   "cell_type": "code",
   "execution_count": 1,
   "id": "9bc0689e",
   "metadata": {
    "_cell_guid": "b1076dfc-b9ad-4769-8c92-a6c4dae69d19",
    "_uuid": "8f2839f25d086af736a60e9eeb907d3b93b6e0e5",
    "execution": {
     "iopub.execute_input": "2025-06-08T10:15:01.655577Z",
     "iopub.status.busy": "2025-06-08T10:15:01.655182Z",
     "iopub.status.idle": "2025-06-08T10:15:07.199703Z",
     "shell.execute_reply": "2025-06-08T10:15:07.198624Z"
    },
    "papermill": {
     "duration": 5.554802,
     "end_time": "2025-06-08T10:15:07.202156",
     "exception": false,
     "start_time": "2025-06-08T10:15:01.647354",
     "status": "completed"
    },
    "tags": []
   },
   "outputs": [
    {
     "name": "stdout",
     "output_type": "stream",
     "text": [
      "/kaggle/input/heads-or-tails-image-classification/sample_submission.csv\n",
      "/kaggle/input/heads-or-tails-image-classification/test/unknown_024.jpg\n",
      "/kaggle/input/heads-or-tails-image-classification/test/unknown_116.jpg\n",
      "/kaggle/input/heads-or-tails-image-classification/test/unknown_003.jpg\n",
      "/kaggle/input/heads-or-tails-image-classification/test/unknown_017.jpg\n",
      "/kaggle/input/heads-or-tails-image-classification/test/unknown_067.jpg\n",
      "/kaggle/input/heads-or-tails-image-classification/test/unknown_037.jpg\n",
      "/kaggle/input/heads-or-tails-image-classification/test/unknown_148.jpg\n",
      "/kaggle/input/heads-or-tails-image-classification/test/unknown_094.jpg\n",
      "/kaggle/input/heads-or-tails-image-classification/test/unknown_179.jpg\n",
      "/kaggle/input/heads-or-tails-image-classification/test/unknown_002.jpg\n",
      "/kaggle/input/heads-or-tails-image-classification/test/unknown_004.jpg\n",
      "/kaggle/input/heads-or-tails-image-classification/test/unknown_006.jpg\n",
      "/kaggle/input/heads-or-tails-image-classification/test/unknown_144.jpg\n",
      "/kaggle/input/heads-or-tails-image-classification/test/unknown_151.jpg\n",
      "/kaggle/input/heads-or-tails-image-classification/test/unknown_117.jpg\n",
      "/kaggle/input/heads-or-tails-image-classification/test/unknown_058.jpg\n",
      "/kaggle/input/heads-or-tails-image-classification/test/unknown_175.jpg\n",
      "/kaggle/input/heads-or-tails-image-classification/test/unknown_047.jpg\n",
      "/kaggle/input/heads-or-tails-image-classification/test/unknown_079.jpg\n",
      "/kaggle/input/heads-or-tails-image-classification/test/unknown_166.jpg\n",
      "/kaggle/input/heads-or-tails-image-classification/test/unknown_046.jpg\n",
      "/kaggle/input/heads-or-tails-image-classification/test/unknown_153.jpg\n",
      "/kaggle/input/heads-or-tails-image-classification/test/unknown_199.jpg\n",
      "/kaggle/input/heads-or-tails-image-classification/test/unknown_161.jpg\n",
      "/kaggle/input/heads-or-tails-image-classification/test/unknown_016.jpg\n",
      "/kaggle/input/heads-or-tails-image-classification/test/unknown_127.jpg\n",
      "/kaggle/input/heads-or-tails-image-classification/test/unknown_183.jpg\n",
      "/kaggle/input/heads-or-tails-image-classification/test/unknown_139.jpg\n",
      "/kaggle/input/heads-or-tails-image-classification/test/unknown_092.jpg\n",
      "/kaggle/input/heads-or-tails-image-classification/test/unknown_200.jpg\n",
      "/kaggle/input/heads-or-tails-image-classification/test/unknown_149.jpg\n",
      "/kaggle/input/heads-or-tails-image-classification/test/unknown_192.jpg\n",
      "/kaggle/input/heads-or-tails-image-classification/test/unknown_108.jpg\n",
      "/kaggle/input/heads-or-tails-image-classification/test/unknown_010.jpg\n",
      "/kaggle/input/heads-or-tails-image-classification/test/unknown_036.jpg\n",
      "/kaggle/input/heads-or-tails-image-classification/test/unknown_197.jpg\n",
      "/kaggle/input/heads-or-tails-image-classification/test/unknown_074.jpg\n",
      "/kaggle/input/heads-or-tails-image-classification/test/unknown_034.jpg\n",
      "/kaggle/input/heads-or-tails-image-classification/test/unknown_152.jpg\n",
      "/kaggle/input/heads-or-tails-image-classification/test/unknown_119.jpg\n",
      "/kaggle/input/heads-or-tails-image-classification/test/unknown_069.jpg\n",
      "/kaggle/input/heads-or-tails-image-classification/test/unknown_051.jpg\n",
      "/kaggle/input/heads-or-tails-image-classification/test/unknown_143.jpg\n",
      "/kaggle/input/heads-or-tails-image-classification/test/unknown_048.jpg\n",
      "/kaggle/input/heads-or-tails-image-classification/test/unknown_059.jpg\n",
      "/kaggle/input/heads-or-tails-image-classification/test/unknown_025.jpg\n",
      "/kaggle/input/heads-or-tails-image-classification/test/unknown_146.jpg\n",
      "/kaggle/input/heads-or-tails-image-classification/test/unknown_155.jpg\n",
      "/kaggle/input/heads-or-tails-image-classification/test/unknown_030.jpg\n",
      "/kaggle/input/heads-or-tails-image-classification/test/unknown_133.jpg\n",
      "/kaggle/input/heads-or-tails-image-classification/test/unknown_011.jpg\n",
      "/kaggle/input/heads-or-tails-image-classification/test/unknown_121.jpg\n",
      "/kaggle/input/heads-or-tails-image-classification/test/unknown_112.jpg\n",
      "/kaggle/input/heads-or-tails-image-classification/test/unknown_135.jpg\n",
      "/kaggle/input/heads-or-tails-image-classification/test/unknown_125.jpg\n",
      "/kaggle/input/heads-or-tails-image-classification/test/unknown_066.jpg\n",
      "/kaggle/input/heads-or-tails-image-classification/test/unknown_107.jpg\n",
      "/kaggle/input/heads-or-tails-image-classification/test/unknown_073.jpg\n",
      "/kaggle/input/heads-or-tails-image-classification/test/unknown_115.jpg\n",
      "/kaggle/input/heads-or-tails-image-classification/test/unknown_182.jpg\n",
      "/kaggle/input/heads-or-tails-image-classification/test/unknown_053.jpg\n",
      "/kaggle/input/heads-or-tails-image-classification/test/unknown_181.jpg\n",
      "/kaggle/input/heads-or-tails-image-classification/test/unknown_072.jpg\n",
      "/kaggle/input/heads-or-tails-image-classification/test/unknown_123.jpg\n",
      "/kaggle/input/heads-or-tails-image-classification/test/unknown_104.jpg\n",
      "/kaggle/input/heads-or-tails-image-classification/test/unknown_164.jpg\n",
      "/kaggle/input/heads-or-tails-image-classification/test/unknown_156.jpg\n",
      "/kaggle/input/heads-or-tails-image-classification/test/unknown_159.jpg\n",
      "/kaggle/input/heads-or-tails-image-classification/test/unknown_100.jpg\n",
      "/kaggle/input/heads-or-tails-image-classification/test/unknown_088.jpg\n",
      "/kaggle/input/heads-or-tails-image-classification/test/unknown_150.jpg\n",
      "/kaggle/input/heads-or-tails-image-classification/test/unknown_140.jpg\n",
      "/kaggle/input/heads-or-tails-image-classification/test/unknown_105.jpg\n",
      "/kaggle/input/heads-or-tails-image-classification/test/unknown_184.jpg\n",
      "/kaggle/input/heads-or-tails-image-classification/test/unknown_130.jpg\n",
      "/kaggle/input/heads-or-tails-image-classification/test/unknown_045.jpg\n",
      "/kaggle/input/heads-or-tails-image-classification/test/unknown_097.jpg\n",
      "/kaggle/input/heads-or-tails-image-classification/test/unknown_038.jpg\n",
      "/kaggle/input/heads-or-tails-image-classification/test/unknown_118.jpg\n",
      "/kaggle/input/heads-or-tails-image-classification/test/unknown_068.jpg\n",
      "/kaggle/input/heads-or-tails-image-classification/test/unknown_005.jpg\n",
      "/kaggle/input/heads-or-tails-image-classification/test/unknown_160.jpg\n",
      "/kaggle/input/heads-or-tails-image-classification/test/unknown_110.jpg\n",
      "/kaggle/input/heads-or-tails-image-classification/test/unknown_061.jpg\n",
      "/kaggle/input/heads-or-tails-image-classification/test/unknown_075.jpg\n",
      "/kaggle/input/heads-or-tails-image-classification/test/unknown_041.jpg\n",
      "/kaggle/input/heads-or-tails-image-classification/test/unknown_190.jpg\n",
      "/kaggle/input/heads-or-tails-image-classification/test/unknown_129.jpg\n",
      "/kaggle/input/heads-or-tails-image-classification/test/unknown_078.jpg\n",
      "/kaggle/input/heads-or-tails-image-classification/test/unknown_023.jpg\n",
      "/kaggle/input/heads-or-tails-image-classification/test/unknown_090.jpg\n",
      "/kaggle/input/heads-or-tails-image-classification/test/unknown_085.jpg\n",
      "/kaggle/input/heads-or-tails-image-classification/test/unknown_055.jpg\n",
      "/kaggle/input/heads-or-tails-image-classification/test/unknown_050.jpg\n",
      "/kaggle/input/heads-or-tails-image-classification/test/unknown_029.jpg\n",
      "/kaggle/input/heads-or-tails-image-classification/test/unknown_065.jpg\n",
      "/kaggle/input/heads-or-tails-image-classification/test/unknown_171.jpg\n",
      "/kaggle/input/heads-or-tails-image-classification/test/unknown_186.jpg\n",
      "/kaggle/input/heads-or-tails-image-classification/test/unknown_154.jpg\n",
      "/kaggle/input/heads-or-tails-image-classification/test/unknown_180.jpg\n",
      "/kaggle/input/heads-or-tails-image-classification/test/unknown_015.jpg\n",
      "/kaggle/input/heads-or-tails-image-classification/test/unknown_177.jpg\n",
      "/kaggle/input/heads-or-tails-image-classification/test/unknown_035.jpg\n",
      "/kaggle/input/heads-or-tails-image-classification/test/unknown_176.jpg\n",
      "/kaggle/input/heads-or-tails-image-classification/test/unknown_109.jpg\n",
      "/kaggle/input/heads-or-tails-image-classification/test/unknown_086.jpg\n",
      "/kaggle/input/heads-or-tails-image-classification/test/unknown_009.jpg\n",
      "/kaggle/input/heads-or-tails-image-classification/test/unknown_052.jpg\n",
      "/kaggle/input/heads-or-tails-image-classification/test/unknown_113.jpg\n",
      "/kaggle/input/heads-or-tails-image-classification/test/unknown_022.jpg\n",
      "/kaggle/input/heads-or-tails-image-classification/test/unknown_163.jpg\n",
      "/kaggle/input/heads-or-tails-image-classification/test/unknown_080.jpg\n",
      "/kaggle/input/heads-or-tails-image-classification/test/unknown_008.jpg\n",
      "/kaggle/input/heads-or-tails-image-classification/test/unknown_111.jpg\n",
      "/kaggle/input/heads-or-tails-image-classification/test/unknown_007.jpg\n",
      "/kaggle/input/heads-or-tails-image-classification/test/unknown_082.jpg\n",
      "/kaggle/input/heads-or-tails-image-classification/test/unknown_101.jpg\n",
      "/kaggle/input/heads-or-tails-image-classification/test/unknown_064.jpg\n",
      "/kaggle/input/heads-or-tails-image-classification/test/unknown_172.jpg\n",
      "/kaggle/input/heads-or-tails-image-classification/test/unknown_027.jpg\n",
      "/kaggle/input/heads-or-tails-image-classification/test/unknown_096.jpg\n",
      "/kaggle/input/heads-or-tails-image-classification/test/unknown_039.jpg\n",
      "/kaggle/input/heads-or-tails-image-classification/test/unknown_128.jpg\n",
      "/kaggle/input/heads-or-tails-image-classification/test/unknown_191.jpg\n",
      "/kaggle/input/heads-or-tails-image-classification/test/unknown_054.jpg\n",
      "/kaggle/input/heads-or-tails-image-classification/test/unknown_033.jpg\n",
      "/kaggle/input/heads-or-tails-image-classification/test/unknown_043.jpg\n",
      "/kaggle/input/heads-or-tails-image-classification/test/unknown_170.jpg\n",
      "/kaggle/input/heads-or-tails-image-classification/test/unknown_173.jpg\n",
      "/kaggle/input/heads-or-tails-image-classification/test/unknown_081.jpg\n",
      "/kaggle/input/heads-or-tails-image-classification/test/unknown_062.jpg\n",
      "/kaggle/input/heads-or-tails-image-classification/test/unknown_147.jpg\n",
      "/kaggle/input/heads-or-tails-image-classification/test/unknown_013.jpg\n",
      "/kaggle/input/heads-or-tails-image-classification/test/unknown_012.jpg\n",
      "/kaggle/input/heads-or-tails-image-classification/test/unknown_167.jpg\n",
      "/kaggle/input/heads-or-tails-image-classification/test/unknown_174.jpg\n",
      "/kaggle/input/heads-or-tails-image-classification/test/unknown_044.jpg\n",
      "/kaggle/input/heads-or-tails-image-classification/test/unknown_132.jpg\n",
      "/kaggle/input/heads-or-tails-image-classification/test/unknown_084.jpg\n",
      "/kaggle/input/heads-or-tails-image-classification/test/unknown_103.jpg\n",
      "/kaggle/input/heads-or-tails-image-classification/test/unknown_126.jpg\n",
      "/kaggle/input/heads-or-tails-image-classification/test/unknown_141.jpg\n",
      "/kaggle/input/heads-or-tails-image-classification/test/unknown_185.jpg\n",
      "/kaggle/input/heads-or-tails-image-classification/test/unknown_165.jpg\n",
      "/kaggle/input/heads-or-tails-image-classification/test/unknown_193.jpg\n",
      "/kaggle/input/heads-or-tails-image-classification/test/unknown_131.jpg\n",
      "/kaggle/input/heads-or-tails-image-classification/test/unknown_196.jpg\n",
      "/kaggle/input/heads-or-tails-image-classification/test/unknown_087.jpg\n",
      "/kaggle/input/heads-or-tails-image-classification/test/unknown_134.jpg\n",
      "/kaggle/input/heads-or-tails-image-classification/test/unknown_076.jpg\n",
      "/kaggle/input/heads-or-tails-image-classification/test/unknown_032.jpg\n",
      "/kaggle/input/heads-or-tails-image-classification/test/unknown_071.jpg\n",
      "/kaggle/input/heads-or-tails-image-classification/test/unknown_137.jpg\n",
      "/kaggle/input/heads-or-tails-image-classification/test/unknown_169.jpg\n",
      "/kaggle/input/heads-or-tails-image-classification/test/unknown_021.jpg\n",
      "/kaggle/input/heads-or-tails-image-classification/test/unknown_106.jpg\n",
      "/kaggle/input/heads-or-tails-image-classification/test/unknown_019.jpg\n",
      "/kaggle/input/heads-or-tails-image-classification/test/unknown_189.jpg\n",
      "/kaggle/input/heads-or-tails-image-classification/test/unknown_056.jpg\n",
      "/kaggle/input/heads-or-tails-image-classification/test/unknown_187.jpg\n",
      "/kaggle/input/heads-or-tails-image-classification/test/unknown_026.jpg\n",
      "/kaggle/input/heads-or-tails-image-classification/test/unknown_195.jpg\n",
      "/kaggle/input/heads-or-tails-image-classification/test/unknown_158.jpg\n",
      "/kaggle/input/heads-or-tails-image-classification/test/unknown_020.jpg\n",
      "/kaggle/input/heads-or-tails-image-classification/test/unknown_198.jpg\n",
      "/kaggle/input/heads-or-tails-image-classification/test/unknown_099.jpg\n",
      "/kaggle/input/heads-or-tails-image-classification/test/unknown_028.jpg\n",
      "/kaggle/input/heads-or-tails-image-classification/test/unknown_031.jpg\n",
      "/kaggle/input/heads-or-tails-image-classification/test/unknown_057.jpg\n",
      "/kaggle/input/heads-or-tails-image-classification/test/unknown_040.jpg\n",
      "/kaggle/input/heads-or-tails-image-classification/test/unknown_060.jpg\n",
      "/kaggle/input/heads-or-tails-image-classification/test/unknown_157.jpg\n",
      "/kaggle/input/heads-or-tails-image-classification/test/unknown_138.jpg\n",
      "/kaggle/input/heads-or-tails-image-classification/test/unknown_014.jpg\n",
      "/kaggle/input/heads-or-tails-image-classification/test/unknown_063.jpg\n",
      "/kaggle/input/heads-or-tails-image-classification/test/unknown_162.jpg\n",
      "/kaggle/input/heads-or-tails-image-classification/test/unknown_122.jpg\n",
      "/kaggle/input/heads-or-tails-image-classification/test/unknown_142.jpg\n",
      "/kaggle/input/heads-or-tails-image-classification/test/unknown_168.jpg\n",
      "/kaggle/input/heads-or-tails-image-classification/test/unknown_178.jpg\n",
      "/kaggle/input/heads-or-tails-image-classification/test/unknown_136.jpg\n",
      "/kaggle/input/heads-or-tails-image-classification/test/unknown_098.jpg\n",
      "/kaggle/input/heads-or-tails-image-classification/test/unknown_049.jpg\n",
      "/kaggle/input/heads-or-tails-image-classification/test/unknown_093.jpg\n",
      "/kaggle/input/heads-or-tails-image-classification/test/unknown_124.jpg\n",
      "/kaggle/input/heads-or-tails-image-classification/test/unknown_077.jpg\n",
      "/kaggle/input/heads-or-tails-image-classification/test/unknown_070.jpg\n",
      "/kaggle/input/heads-or-tails-image-classification/test/unknown_114.jpg\n",
      "/kaggle/input/heads-or-tails-image-classification/test/unknown_120.jpg\n",
      "/kaggle/input/heads-or-tails-image-classification/test/unknown_102.jpg\n",
      "/kaggle/input/heads-or-tails-image-classification/test/unknown_194.jpg\n",
      "/kaggle/input/heads-or-tails-image-classification/test/unknown_091.jpg\n",
      "/kaggle/input/heads-or-tails-image-classification/test/unknown_042.jpg\n",
      "/kaggle/input/heads-or-tails-image-classification/test/unknown_188.jpg\n",
      "/kaggle/input/heads-or-tails-image-classification/test/unknown_095.jpg\n",
      "/kaggle/input/heads-or-tails-image-classification/test/unknown_145.jpg\n",
      "/kaggle/input/heads-or-tails-image-classification/test/unknown_089.jpg\n",
      "/kaggle/input/heads-or-tails-image-classification/test/unknown_083.jpg\n",
      "/kaggle/input/heads-or-tails-image-classification/test/unknown_001.jpg\n",
      "/kaggle/input/heads-or-tails-image-classification/test/unknown_018.jpg\n",
      "/kaggle/input/heads-or-tails-image-classification/train/heads/heads_132.jpg\n",
      "/kaggle/input/heads-or-tails-image-classification/train/heads/heads_242.jpg\n",
      "/kaggle/input/heads-or-tails-image-classification/train/heads/heads_163.jpg\n",
      "/kaggle/input/heads-or-tails-image-classification/train/heads/heads_371.jpg\n",
      "/kaggle/input/heads-or-tails-image-classification/train/heads/heads_161.jpg\n",
      "/kaggle/input/heads-or-tails-image-classification/train/heads/heads_364.jpg\n",
      "/kaggle/input/heads-or-tails-image-classification/train/heads/heads_181.jpg\n",
      "/kaggle/input/heads-or-tails-image-classification/train/heads/heads_229.jpg\n",
      "/kaggle/input/heads-or-tails-image-classification/train/heads/heads_396.jpg\n",
      "/kaggle/input/heads-or-tails-image-classification/train/heads/heads_292.jpg\n",
      "/kaggle/input/heads-or-tails-image-classification/train/heads/heads_192.jpg\n",
      "/kaggle/input/heads-or-tails-image-classification/train/heads/heads_366.jpg\n",
      "/kaggle/input/heads-or-tails-image-classification/train/heads/heads_258.jpg\n",
      "/kaggle/input/heads-or-tails-image-classification/train/heads/heads_311.jpg\n",
      "/kaggle/input/heads-or-tails-image-classification/train/heads/heads_329.jpg\n",
      "/kaggle/input/heads-or-tails-image-classification/train/heads/heads_060.jpg\n",
      "/kaggle/input/heads-or-tails-image-classification/train/heads/heads_332.jpg\n",
      "/kaggle/input/heads-or-tails-image-classification/train/heads/heads_257.jpg\n",
      "/kaggle/input/heads-or-tails-image-classification/train/heads/heads_057.jpg\n",
      "/kaggle/input/heads-or-tails-image-classification/train/heads/heads_220.jpg\n",
      "/kaggle/input/heads-or-tails-image-classification/train/heads/heads_280.jpg\n",
      "/kaggle/input/heads-or-tails-image-classification/train/heads/heads_026.jpg\n",
      "/kaggle/input/heads-or-tails-image-classification/train/heads/heads_247.jpg\n",
      "/kaggle/input/heads-or-tails-image-classification/train/heads/heads_043.jpg\n",
      "/kaggle/input/heads-or-tails-image-classification/train/heads/heads_117.jpg\n",
      "/kaggle/input/heads-or-tails-image-classification/train/heads/heads_139.jpg\n",
      "/kaggle/input/heads-or-tails-image-classification/train/heads/heads_337.jpg\n",
      "/kaggle/input/heads-or-tails-image-classification/train/heads/heads_178.jpg\n",
      "/kaggle/input/heads-or-tails-image-classification/train/heads/heads_390.jpg\n",
      "/kaggle/input/heads-or-tails-image-classification/train/heads/heads_232.jpg\n",
      "/kaggle/input/heads-or-tails-image-classification/train/heads/heads_158.jpg\n",
      "/kaggle/input/heads-or-tails-image-classification/train/heads/heads_351.jpg\n",
      "/kaggle/input/heads-or-tails-image-classification/train/heads/heads_358.jpg\n",
      "/kaggle/input/heads-or-tails-image-classification/train/heads/heads_120.jpg\n",
      "/kaggle/input/heads-or-tails-image-classification/train/heads/heads_409.jpg\n",
      "/kaggle/input/heads-or-tails-image-classification/train/heads/heads_318.jpg\n",
      "/kaggle/input/heads-or-tails-image-classification/train/heads/heads_185.jpg\n",
      "/kaggle/input/heads-or-tails-image-classification/train/heads/heads_009.jpg\n",
      "/kaggle/input/heads-or-tails-image-classification/train/heads/heads_116.jpg\n",
      "/kaggle/input/heads-or-tails-image-classification/train/heads/heads_251.jpg\n",
      "/kaggle/input/heads-or-tails-image-classification/train/heads/heads_212.jpg\n",
      "/kaggle/input/heads-or-tails-image-classification/train/heads/heads_234.jpg\n",
      "/kaggle/input/heads-or-tails-image-classification/train/heads/heads_265.jpg\n",
      "/kaggle/input/heads-or-tails-image-classification/train/heads/heads_037.jpg\n",
      "/kaggle/input/heads-or-tails-image-classification/train/heads/heads_291.jpg\n",
      "/kaggle/input/heads-or-tails-image-classification/train/heads/heads_183.jpg\n",
      "/kaggle/input/heads-or-tails-image-classification/train/heads/heads_081.jpg\n",
      "/kaggle/input/heads-or-tails-image-classification/train/heads/heads_098.jpg\n",
      "/kaggle/input/heads-or-tails-image-classification/train/heads/heads_338.jpg\n",
      "/kaggle/input/heads-or-tails-image-classification/train/heads/heads_321.jpg\n",
      "/kaggle/input/heads-or-tails-image-classification/train/heads/heads_298.jpg\n",
      "/kaggle/input/heads-or-tails-image-classification/train/heads/heads_194.jpg\n",
      "/kaggle/input/heads-or-tails-image-classification/train/heads/heads_022.jpg\n",
      "/kaggle/input/heads-or-tails-image-classification/train/heads/heads_386.jpg\n",
      "/kaggle/input/heads-or-tails-image-classification/train/heads/heads_110.jpg\n",
      "/kaggle/input/heads-or-tails-image-classification/train/heads/heads_349.jpg\n",
      "/kaggle/input/heads-or-tails-image-classification/train/heads/heads_169.jpg\n",
      "/kaggle/input/heads-or-tails-image-classification/train/heads/heads_407.jpg\n",
      "/kaggle/input/heads-or-tails-image-classification/train/heads/heads_296.jpg\n",
      "/kaggle/input/heads-or-tails-image-classification/train/heads/heads_379.jpg\n",
      "/kaggle/input/heads-or-tails-image-classification/train/heads/heads_245.jpg\n",
      "/kaggle/input/heads-or-tails-image-classification/train/heads/heads_196.jpg\n",
      "/kaggle/input/heads-or-tails-image-classification/train/heads/heads_179.jpg\n",
      "/kaggle/input/heads-or-tails-image-classification/train/heads/heads_055.jpg\n",
      "/kaggle/input/heads-or-tails-image-classification/train/heads/heads_085.jpg\n",
      "/kaggle/input/heads-or-tails-image-classification/train/heads/heads_241.jpg\n",
      "/kaggle/input/heads-or-tails-image-classification/train/heads/heads_006.jpg\n",
      "/kaggle/input/heads-or-tails-image-classification/train/heads/heads_319.jpg\n",
      "/kaggle/input/heads-or-tails-image-classification/train/heads/heads_059.jpg\n",
      "/kaggle/input/heads-or-tails-image-classification/train/heads/heads_365.jpg\n",
      "/kaggle/input/heads-or-tails-image-classification/train/heads/heads_115.jpg\n",
      "/kaggle/input/heads-or-tails-image-classification/train/heads/heads_254.jpg\n",
      "/kaggle/input/heads-or-tails-image-classification/train/heads/heads_080.jpg\n",
      "/kaggle/input/heads-or-tails-image-classification/train/heads/heads_208.jpg\n",
      "/kaggle/input/heads-or-tails-image-classification/train/heads/heads_244.jpg\n",
      "/kaggle/input/heads-or-tails-image-classification/train/heads/heads_015.jpg\n",
      "/kaggle/input/heads-or-tails-image-classification/train/heads/heads_177.jpg\n",
      "/kaggle/input/heads-or-tails-image-classification/train/heads/heads_027.jpg\n",
      "/kaggle/input/heads-or-tails-image-classification/train/heads/heads_233.jpg\n",
      "/kaggle/input/heads-or-tails-image-classification/train/heads/heads_056.jpg\n",
      "/kaggle/input/heads-or-tails-image-classification/train/heads/heads_190.jpg\n",
      "/kaggle/input/heads-or-tails-image-classification/train/heads/heads_213.jpg\n",
      "/kaggle/input/heads-or-tails-image-classification/train/heads/heads_048.jpg\n",
      "/kaggle/input/heads-or-tails-image-classification/train/heads/heads_093.jpg\n",
      "/kaggle/input/heads-or-tails-image-classification/train/heads/heads_339.jpg\n",
      "/kaggle/input/heads-or-tails-image-classification/train/heads/heads_275.jpg\n",
      "/kaggle/input/heads-or-tails-image-classification/train/heads/heads_003.jpg\n",
      "/kaggle/input/heads-or-tails-image-classification/train/heads/heads_209.jpg\n",
      "/kaggle/input/heads-or-tails-image-classification/train/heads/heads_074.jpg\n",
      "/kaggle/input/heads-or-tails-image-classification/train/heads/heads_269.jpg\n",
      "/kaggle/input/heads-or-tails-image-classification/train/heads/heads_125.jpg\n",
      "/kaggle/input/heads-or-tails-image-classification/train/heads/heads_108.jpg\n",
      "/kaggle/input/heads-or-tails-image-classification/train/heads/heads_063.jpg\n",
      "/kaggle/input/heads-or-tails-image-classification/train/heads/heads_147.jpg\n",
      "/kaggle/input/heads-or-tails-image-classification/train/heads/heads_346.jpg\n",
      "/kaggle/input/heads-or-tails-image-classification/train/heads/heads_076.jpg\n",
      "/kaggle/input/heads-or-tails-image-classification/train/heads/heads_086.jpg\n",
      "/kaggle/input/heads-or-tails-image-classification/train/heads/heads_203.jpg\n",
      "/kaggle/input/heads-or-tails-image-classification/train/heads/heads_356.jpg\n",
      "/kaggle/input/heads-or-tails-image-classification/train/heads/heads_279.jpg\n",
      "/kaggle/input/heads-or-tails-image-classification/train/heads/heads_372.jpg\n",
      "/kaggle/input/heads-or-tails-image-classification/train/heads/heads_263.jpg\n",
      "/kaggle/input/heads-or-tails-image-classification/train/heads/heads_230.jpg\n",
      "/kaggle/input/heads-or-tails-image-classification/train/heads/heads_029.jpg\n",
      "/kaggle/input/heads-or-tails-image-classification/train/heads/heads_355.jpg\n",
      "/kaggle/input/heads-or-tails-image-classification/train/heads/heads_222.jpg\n",
      "/kaggle/input/heads-or-tails-image-classification/train/heads/heads_380.jpg\n",
      "/kaggle/input/heads-or-tails-image-classification/train/heads/heads_017.jpg\n",
      "/kaggle/input/heads-or-tails-image-classification/train/heads/heads_198.jpg\n",
      "/kaggle/input/heads-or-tails-image-classification/train/heads/heads_068.jpg\n",
      "/kaggle/input/heads-or-tails-image-classification/train/heads/heads_352.jpg\n",
      "/kaggle/input/heads-or-tails-image-classification/train/heads/heads_393.jpg\n",
      "/kaggle/input/heads-or-tails-image-classification/train/heads/heads_377.jpg\n",
      "/kaggle/input/heads-or-tails-image-classification/train/heads/heads_154.jpg\n",
      "/kaggle/input/heads-or-tails-image-classification/train/heads/heads_058.jpg\n",
      "/kaggle/input/heads-or-tails-image-classification/train/heads/heads_328.jpg\n",
      "/kaggle/input/heads-or-tails-image-classification/train/heads/heads_005.jpg\n",
      "/kaggle/input/heads-or-tails-image-classification/train/heads/heads_250.jpg\n",
      "/kaggle/input/heads-or-tails-image-classification/train/heads/heads_091.jpg\n",
      "/kaggle/input/heads-or-tails-image-classification/train/heads/heads_011.jpg\n",
      "/kaggle/input/heads-or-tails-image-classification/train/heads/heads_033.jpg\n",
      "/kaggle/input/heads-or-tails-image-classification/train/heads/heads_215.jpg\n",
      "/kaggle/input/heads-or-tails-image-classification/train/heads/heads_400.jpg\n",
      "/kaggle/input/heads-or-tails-image-classification/train/heads/heads_151.jpg\n",
      "/kaggle/input/heads-or-tails-image-classification/train/heads/heads_088.jpg\n",
      "/kaggle/input/heads-or-tails-image-classification/train/heads/heads_327.jpg\n",
      "/kaggle/input/heads-or-tails-image-classification/train/heads/heads_062.jpg\n",
      "/kaggle/input/heads-or-tails-image-classification/train/heads/heads_231.jpg\n",
      "/kaggle/input/heads-or-tails-image-classification/train/heads/heads_383.jpg\n",
      "/kaggle/input/heads-or-tails-image-classification/train/heads/heads_104.jpg\n",
      "/kaggle/input/heads-or-tails-image-classification/train/heads/heads_071.jpg\n",
      "/kaggle/input/heads-or-tails-image-classification/train/heads/heads_166.jpg\n",
      "/kaggle/input/heads-or-tails-image-classification/train/heads/heads_261.jpg\n",
      "/kaggle/input/heads-or-tails-image-classification/train/heads/heads_097.jpg\n",
      "/kaggle/input/heads-or-tails-image-classification/train/heads/heads_090.jpg\n",
      "/kaggle/input/heads-or-tails-image-classification/train/heads/heads_103.jpg\n",
      "/kaggle/input/heads-or-tails-image-classification/train/heads/heads_382.jpg\n",
      "/kaggle/input/heads-or-tails-image-classification/train/heads/heads_050.jpg\n",
      "/kaggle/input/heads-or-tails-image-classification/train/heads/heads_278.jpg\n",
      "/kaggle/input/heads-or-tails-image-classification/train/heads/heads_387.jpg\n",
      "/kaggle/input/heads-or-tails-image-classification/train/heads/heads_064.jpg\n",
      "/kaggle/input/heads-or-tails-image-classification/train/heads/heads_002.jpg\n",
      "/kaggle/input/heads-or-tails-image-classification/train/heads/heads_042.jpg\n",
      "/kaggle/input/heads-or-tails-image-classification/train/heads/heads_014.jpg\n",
      "/kaggle/input/heads-or-tails-image-classification/train/heads/heads_001.jpg\n",
      "/kaggle/input/heads-or-tails-image-classification/train/heads/heads_172.jpg\n",
      "/kaggle/input/heads-or-tails-image-classification/train/heads/heads_030.jpg\n",
      "/kaggle/input/heads-or-tails-image-classification/train/heads/heads_119.jpg\n",
      "/kaggle/input/heads-or-tails-image-classification/train/heads/heads_404.jpg\n",
      "/kaggle/input/heads-or-tails-image-classification/train/heads/heads_259.jpg\n",
      "/kaggle/input/heads-or-tails-image-classification/train/heads/heads_079.jpg\n",
      "/kaggle/input/heads-or-tails-image-classification/train/heads/heads_122.jpg\n",
      "/kaggle/input/heads-or-tails-image-classification/train/heads/heads_205.jpg\n",
      "/kaggle/input/heads-or-tails-image-classification/train/heads/heads_211.jpg\n",
      "/kaggle/input/heads-or-tails-image-classification/train/heads/heads_141.jpg\n",
      "/kaggle/input/heads-or-tails-image-classification/train/heads/heads_314.jpg\n",
      "/kaggle/input/heads-or-tails-image-classification/train/heads/heads_378.jpg\n",
      "/kaggle/input/heads-or-tails-image-classification/train/heads/heads_133.jpg\n",
      "/kaggle/input/heads-or-tails-image-classification/train/heads/heads_019.jpg\n",
      "/kaggle/input/heads-or-tails-image-classification/train/heads/heads_069.jpg\n",
      "/kaggle/input/heads-or-tails-image-classification/train/heads/heads_149.jpg\n",
      "/kaggle/input/heads-or-tails-image-classification/train/heads/heads_128.jpg\n",
      "/kaggle/input/heads-or-tails-image-classification/train/heads/heads_336.jpg\n",
      "/kaggle/input/heads-or-tails-image-classification/train/heads/heads_397.jpg\n",
      "/kaggle/input/heads-or-tails-image-classification/train/heads/heads_206.jpg\n",
      "/kaggle/input/heads-or-tails-image-classification/train/heads/heads_228.jpg\n",
      "/kaggle/input/heads-or-tails-image-classification/train/heads/heads_360.jpg\n",
      "/kaggle/input/heads-or-tails-image-classification/train/heads/heads_252.jpg\n",
      "/kaggle/input/heads-or-tails-image-classification/train/heads/heads_315.jpg\n",
      "/kaggle/input/heads-or-tails-image-classification/train/heads/heads_317.jpg\n",
      "/kaggle/input/heads-or-tails-image-classification/train/heads/heads_012.jpg\n",
      "/kaggle/input/heads-or-tails-image-classification/train/heads/heads_348.jpg\n",
      "/kaggle/input/heads-or-tails-image-classification/train/heads/heads_394.jpg\n",
      "/kaggle/input/heads-or-tails-image-classification/train/heads/heads_127.jpg\n",
      "/kaggle/input/heads-or-tails-image-classification/train/heads/heads_342.jpg\n",
      "/kaggle/input/heads-or-tails-image-classification/train/heads/heads_165.jpg\n",
      "/kaggle/input/heads-or-tails-image-classification/train/heads/heads_281.jpg\n",
      "/kaggle/input/heads-or-tails-image-classification/train/heads/heads_283.jpg\n",
      "/kaggle/input/heads-or-tails-image-classification/train/heads/heads_186.jpg\n",
      "/kaggle/input/heads-or-tails-image-classification/train/heads/heads_083.jpg\n",
      "/kaggle/input/heads-or-tails-image-classification/train/heads/heads_238.jpg\n",
      "/kaggle/input/heads-or-tails-image-classification/train/heads/heads_207.jpg\n",
      "/kaggle/input/heads-or-tails-image-classification/train/heads/heads_173.jpg\n",
      "/kaggle/input/heads-or-tails-image-classification/train/heads/heads_075.jpg\n",
      "/kaggle/input/heads-or-tails-image-classification/train/heads/heads_170.jpg\n",
      "/kaggle/input/heads-or-tails-image-classification/train/heads/heads_300.jpg\n",
      "/kaggle/input/heads-or-tails-image-classification/train/heads/heads_143.jpg\n",
      "/kaggle/input/heads-or-tails-image-classification/train/heads/heads_175.jpg\n",
      "/kaggle/input/heads-or-tails-image-classification/train/heads/heads_227.jpg\n",
      "/kaggle/input/heads-or-tails-image-classification/train/heads/heads_253.jpg\n",
      "/kaggle/input/heads-or-tails-image-classification/train/heads/heads_146.jpg\n",
      "/kaggle/input/heads-or-tails-image-classification/train/heads/heads_359.jpg\n",
      "/kaggle/input/heads-or-tails-image-classification/train/heads/heads_357.jpg\n",
      "/kaggle/input/heads-or-tails-image-classification/train/heads/heads_101.jpg\n",
      "/kaggle/input/heads-or-tails-image-classification/train/heads/heads_044.jpg\n",
      "/kaggle/input/heads-or-tails-image-classification/train/heads/heads_145.jpg\n",
      "/kaggle/input/heads-or-tails-image-classification/train/heads/heads_266.jpg\n",
      "/kaggle/input/heads-or-tails-image-classification/train/heads/heads_070.jpg\n",
      "/kaggle/input/heads-or-tails-image-classification/train/heads/heads_024.jpg\n",
      "/kaggle/input/heads-or-tails-image-classification/train/heads/heads_320.jpg\n",
      "/kaggle/input/heads-or-tails-image-classification/train/heads/heads_312.jpg\n",
      "/kaggle/input/heads-or-tails-image-classification/train/heads/heads_164.jpg\n",
      "/kaggle/input/heads-or-tails-image-classification/train/heads/heads_007.jpg\n",
      "/kaggle/input/heads-or-tails-image-classification/train/heads/heads_293.jpg\n",
      "/kaggle/input/heads-or-tails-image-classification/train/heads/heads_031.jpg\n",
      "/kaggle/input/heads-or-tails-image-classification/train/heads/heads_402.jpg\n",
      "/kaggle/input/heads-or-tails-image-classification/train/heads/heads_331.jpg\n",
      "/kaggle/input/heads-or-tails-image-classification/train/heads/heads_167.jpg\n",
      "/kaggle/input/heads-or-tails-image-classification/train/heads/heads_385.jpg\n",
      "/kaggle/input/heads-or-tails-image-classification/train/heads/heads_010.jpg\n",
      "/kaggle/input/heads-or-tails-image-classification/train/heads/heads_308.jpg\n",
      "/kaggle/input/heads-or-tails-image-classification/train/heads/heads_036.jpg\n",
      "/kaggle/input/heads-or-tails-image-classification/train/heads/heads_041.jpg\n",
      "/kaggle/input/heads-or-tails-image-classification/train/heads/heads_282.jpg\n",
      "/kaggle/input/heads-or-tails-image-classification/train/heads/heads_299.jpg\n",
      "/kaggle/input/heads-or-tails-image-classification/train/heads/heads_016.jpg\n",
      "/kaggle/input/heads-or-tails-image-classification/train/heads/heads_236.jpg\n",
      "/kaggle/input/heads-or-tails-image-classification/train/heads/heads_223.jpg\n",
      "/kaggle/input/heads-or-tails-image-classification/train/heads/heads_124.jpg\n",
      "/kaggle/input/heads-or-tails-image-classification/train/heads/heads_023.jpg\n",
      "/kaggle/input/heads-or-tails-image-classification/train/heads/heads_004.jpg\n",
      "/kaggle/input/heads-or-tails-image-classification/train/heads/heads_363.jpg\n",
      "/kaggle/input/heads-or-tails-image-classification/train/heads/heads_040.jpg\n",
      "/kaggle/input/heads-or-tails-image-classification/train/heads/heads_136.jpg\n",
      "/kaggle/input/heads-or-tails-image-classification/train/heads/heads_235.jpg\n",
      "/kaggle/input/heads-or-tails-image-classification/train/heads/heads_187.jpg\n",
      "/kaggle/input/heads-or-tails-image-classification/train/heads/heads_061.jpg\n",
      "/kaggle/input/heads-or-tails-image-classification/train/heads/heads_153.jpg\n",
      "/kaggle/input/heads-or-tails-image-classification/train/heads/heads_195.jpg\n",
      "/kaggle/input/heads-or-tails-image-classification/train/heads/heads_130.jpg\n",
      "/kaggle/input/heads-or-tails-image-classification/train/heads/heads_286.jpg\n",
      "/kaggle/input/heads-or-tails-image-classification/train/heads/heads_309.jpg\n",
      "/kaggle/input/heads-or-tails-image-classification/train/heads/heads_353.jpg\n",
      "/kaggle/input/heads-or-tails-image-classification/train/heads/heads_367.jpg\n",
      "/kaggle/input/heads-or-tails-image-classification/train/heads/heads_092.jpg\n",
      "/kaggle/input/heads-or-tails-image-classification/train/heads/heads_221.jpg\n",
      "/kaggle/input/heads-or-tails-image-classification/train/heads/heads_160.jpg\n",
      "/kaggle/input/heads-or-tails-image-classification/train/heads/heads_188.jpg\n",
      "/kaggle/input/heads-or-tails-image-classification/train/heads/heads_354.jpg\n",
      "/kaggle/input/heads-or-tails-image-classification/train/heads/heads_067.jpg\n",
      "/kaggle/input/heads-or-tails-image-classification/train/heads/heads_111.jpg\n",
      "/kaggle/input/heads-or-tails-image-classification/train/heads/heads_375.jpg\n",
      "/kaggle/input/heads-or-tails-image-classification/train/heads/heads_152.jpg\n",
      "/kaggle/input/heads-or-tails-image-classification/train/heads/heads_099.jpg\n",
      "/kaggle/input/heads-or-tails-image-classification/train/heads/heads_156.jpg\n",
      "/kaggle/input/heads-or-tails-image-classification/train/heads/heads_306.jpg\n",
      "/kaggle/input/heads-or-tails-image-classification/train/heads/heads_162.jpg\n",
      "/kaggle/input/heads-or-tails-image-classification/train/heads/heads_295.jpg\n",
      "/kaggle/input/heads-or-tails-image-classification/train/heads/heads_260.jpg\n",
      "/kaggle/input/heads-or-tails-image-classification/train/heads/heads_324.jpg\n",
      "/kaggle/input/heads-or-tails-image-classification/train/heads/heads_401.jpg\n",
      "/kaggle/input/heads-or-tails-image-classification/train/heads/heads_084.jpg\n",
      "/kaggle/input/heads-or-tails-image-classification/train/heads/heads_210.jpg\n",
      "/kaggle/input/heads-or-tails-image-classification/train/heads/heads_049.jpg\n",
      "/kaggle/input/heads-or-tails-image-classification/train/heads/heads_284.jpg\n",
      "/kaggle/input/heads-or-tails-image-classification/train/heads/heads_008.jpg\n",
      "/kaggle/input/heads-or-tails-image-classification/train/heads/heads_330.jpg\n",
      "/kaggle/input/heads-or-tails-image-classification/train/heads/heads_304.jpg\n",
      "/kaggle/input/heads-or-tails-image-classification/train/heads/heads_028.jpg\n",
      "/kaggle/input/heads-or-tails-image-classification/train/heads/heads_144.jpg\n",
      "/kaggle/input/heads-or-tails-image-classification/train/heads/heads_274.jpg\n",
      "/kaggle/input/heads-or-tails-image-classification/train/heads/heads_264.jpg\n",
      "/kaggle/input/heads-or-tails-image-classification/train/heads/heads_021.jpg\n",
      "/kaggle/input/heads-or-tails-image-classification/train/heads/heads_121.jpg\n",
      "/kaggle/input/heads-or-tails-image-classification/train/heads/heads_290.jpg\n",
      "/kaggle/input/heads-or-tails-image-classification/train/heads/heads_362.jpg\n",
      "/kaggle/input/heads-or-tails-image-classification/train/heads/heads_168.jpg\n",
      "/kaggle/input/heads-or-tails-image-classification/train/heads/heads_303.jpg\n",
      "/kaggle/input/heads-or-tails-image-classification/train/heads/heads_345.jpg\n",
      "/kaggle/input/heads-or-tails-image-classification/train/heads/heads_032.jpg\n",
      "/kaggle/input/heads-or-tails-image-classification/train/heads/heads_184.jpg\n",
      "/kaggle/input/heads-or-tails-image-classification/train/heads/heads_410.jpg\n",
      "/kaggle/input/heads-or-tails-image-classification/train/heads/heads_305.jpg\n",
      "/kaggle/input/heads-or-tails-image-classification/train/heads/heads_294.jpg\n",
      "/kaggle/input/heads-or-tails-image-classification/train/heads/heads_395.jpg\n",
      "/kaggle/input/heads-or-tails-image-classification/train/heads/heads_322.jpg\n",
      "/kaggle/input/heads-or-tails-image-classification/train/heads/heads_376.jpg\n",
      "/kaggle/input/heads-or-tails-image-classification/train/heads/heads_333.jpg\n",
      "/kaggle/input/heads-or-tails-image-classification/train/heads/heads_039.jpg\n",
      "/kaggle/input/heads-or-tails-image-classification/train/heads/heads_399.jpg\n",
      "/kaggle/input/heads-or-tails-image-classification/train/heads/heads_087.jpg\n",
      "/kaggle/input/heads-or-tails-image-classification/train/heads/heads_131.jpg\n",
      "/kaggle/input/heads-or-tails-image-classification/train/heads/heads_323.jpg\n",
      "/kaggle/input/heads-or-tails-image-classification/train/heads/heads_094.jpg\n",
      "/kaggle/input/heads-or-tails-image-classification/train/heads/heads_344.jpg\n",
      "/kaggle/input/heads-or-tails-image-classification/train/heads/heads_182.jpg\n",
      "/kaggle/input/heads-or-tails-image-classification/train/heads/heads_052.jpg\n",
      "/kaggle/input/heads-or-tails-image-classification/train/heads/heads_240.jpg\n",
      "/kaggle/input/heads-or-tails-image-classification/train/heads/heads_384.jpg\n",
      "/kaggle/input/heads-or-tails-image-classification/train/heads/heads_368.jpg\n",
      "/kaggle/input/heads-or-tails-image-classification/train/heads/heads_051.jpg\n",
      "/kaggle/input/heads-or-tails-image-classification/train/heads/heads_289.jpg\n",
      "/kaggle/input/heads-or-tails-image-classification/train/heads/heads_191.jpg\n",
      "/kaggle/input/heads-or-tails-image-classification/train/heads/heads_095.jpg\n",
      "/kaggle/input/heads-or-tails-image-classification/train/heads/heads_077.jpg\n",
      "/kaggle/input/heads-or-tails-image-classification/train/heads/heads_350.jpg\n",
      "/kaggle/input/heads-or-tails-image-classification/train/heads/heads_237.jpg\n",
      "/kaggle/input/heads-or-tails-image-classification/train/heads/heads_391.jpg\n",
      "/kaggle/input/heads-or-tails-image-classification/train/heads/heads_176.jpg\n",
      "/kaggle/input/heads-or-tails-image-classification/train/heads/heads_138.jpg\n",
      "/kaggle/input/heads-or-tails-image-classification/train/heads/heads_334.jpg\n",
      "/kaggle/input/heads-or-tails-image-classification/train/heads/heads_082.jpg\n",
      "/kaggle/input/heads-or-tails-image-classification/train/heads/heads_268.jpg\n",
      "/kaggle/input/heads-or-tails-image-classification/train/heads/heads_018.jpg\n",
      "/kaggle/input/heads-or-tails-image-classification/train/heads/heads_214.jpg\n",
      "/kaggle/input/heads-or-tails-image-classification/train/heads/heads_038.jpg\n",
      "/kaggle/input/heads-or-tails-image-classification/train/heads/heads_403.jpg\n",
      "/kaggle/input/heads-or-tails-image-classification/train/heads/heads_072.jpg\n",
      "/kaggle/input/heads-or-tails-image-classification/train/heads/heads_370.jpg\n",
      "/kaggle/input/heads-or-tails-image-classification/train/heads/heads_202.jpg\n",
      "/kaggle/input/heads-or-tails-image-classification/train/heads/heads_171.jpg\n",
      "/kaggle/input/heads-or-tails-image-classification/train/heads/heads_340.jpg\n",
      "/kaggle/input/heads-or-tails-image-classification/train/heads/heads_129.jpg\n",
      "/kaggle/input/heads-or-tails-image-classification/train/heads/heads_201.jpg\n",
      "/kaggle/input/heads-or-tails-image-classification/train/heads/heads_406.jpg\n",
      "/kaggle/input/heads-or-tails-image-classification/train/heads/heads_374.jpg\n",
      "/kaggle/input/heads-or-tails-image-classification/train/heads/heads_065.jpg\n",
      "/kaggle/input/heads-or-tails-image-classification/train/heads/heads_398.jpg\n",
      "/kaggle/input/heads-or-tails-image-classification/train/heads/heads_066.jpg\n",
      "/kaggle/input/heads-or-tails-image-classification/train/heads/heads_200.jpg\n",
      "/kaggle/input/heads-or-tails-image-classification/train/heads/heads_313.jpg\n",
      "/kaggle/input/heads-or-tails-image-classification/train/heads/heads_381.jpg\n",
      "/kaggle/input/heads-or-tails-image-classification/train/heads/heads_267.jpg\n",
      "/kaggle/input/heads-or-tails-image-classification/train/heads/heads_135.jpg\n",
      "/kaggle/input/heads-or-tails-image-classification/train/heads/heads_216.jpg\n",
      "/kaggle/input/heads-or-tails-image-classification/train/heads/heads_246.jpg\n",
      "/kaggle/input/heads-or-tails-image-classification/train/heads/heads_388.jpg\n",
      "/kaggle/input/heads-or-tails-image-classification/train/heads/heads_285.jpg\n",
      "/kaggle/input/heads-or-tails-image-classification/train/heads/heads_034.jpg\n",
      "/kaggle/input/heads-or-tails-image-classification/train/heads/heads_137.jpg\n",
      "/kaggle/input/heads-or-tails-image-classification/train/heads/heads_105.jpg\n",
      "/kaggle/input/heads-or-tails-image-classification/train/heads/heads_109.jpg\n",
      "/kaggle/input/heads-or-tails-image-classification/train/heads/heads_140.jpg\n",
      "/kaggle/input/heads-or-tails-image-classification/train/heads/heads_046.jpg\n",
      "/kaggle/input/heads-or-tails-image-classification/train/heads/heads_225.jpg\n",
      "/kaggle/input/heads-or-tails-image-classification/train/heads/heads_361.jpg\n",
      "/kaggle/input/heads-or-tails-image-classification/train/heads/heads_239.jpg\n",
      "/kaggle/input/heads-or-tails-image-classification/train/heads/heads_271.jpg\n",
      "/kaggle/input/heads-or-tails-image-classification/train/heads/heads_035.jpg\n",
      "/kaggle/input/heads-or-tails-image-classification/train/heads/heads_255.jpg\n",
      "/kaggle/input/heads-or-tails-image-classification/train/heads/heads_113.jpg\n",
      "/kaggle/input/heads-or-tails-image-classification/train/heads/heads_118.jpg\n",
      "/kaggle/input/heads-or-tails-image-classification/train/heads/heads_189.jpg\n",
      "/kaggle/input/heads-or-tails-image-classification/train/heads/heads_219.jpg\n",
      "/kaggle/input/heads-or-tails-image-classification/train/heads/heads_224.jpg\n",
      "/kaggle/input/heads-or-tails-image-classification/train/heads/heads_276.jpg\n",
      "/kaggle/input/heads-or-tails-image-classification/train/heads/heads_288.jpg\n",
      "/kaggle/input/heads-or-tails-image-classification/train/heads/heads_316.jpg\n",
      "/kaggle/input/heads-or-tails-image-classification/train/heads/heads_174.jpg\n",
      "/kaggle/input/heads-or-tails-image-classification/train/heads/heads_272.jpg\n",
      "/kaggle/input/heads-or-tails-image-classification/train/heads/heads_126.jpg\n",
      "/kaggle/input/heads-or-tails-image-classification/train/heads/heads_159.jpg\n",
      "/kaggle/input/heads-or-tails-image-classification/train/heads/heads_343.jpg\n",
      "/kaggle/input/heads-or-tails-image-classification/train/heads/heads_297.jpg\n",
      "/kaggle/input/heads-or-tails-image-classification/train/heads/heads_155.jpg\n",
      "/kaggle/input/heads-or-tails-image-classification/train/heads/heads_243.jpg\n",
      "/kaggle/input/heads-or-tails-image-classification/train/heads/heads_262.jpg\n",
      "/kaggle/input/heads-or-tails-image-classification/train/heads/heads_150.jpg\n",
      "/kaggle/input/heads-or-tails-image-classification/train/heads/heads_193.jpg\n",
      "/kaggle/input/heads-or-tails-image-classification/train/heads/heads_218.jpg\n",
      "/kaggle/input/heads-or-tails-image-classification/train/heads/heads_112.jpg\n",
      "/kaggle/input/heads-or-tails-image-classification/train/heads/heads_307.jpg\n",
      "/kaggle/input/heads-or-tails-image-classification/train/heads/heads_102.jpg\n",
      "/kaggle/input/heads-or-tails-image-classification/train/heads/heads_199.jpg\n",
      "/kaggle/input/heads-or-tails-image-classification/train/heads/heads_405.jpg\n",
      "/kaggle/input/heads-or-tails-image-classification/train/heads/heads_270.jpg\n",
      "/kaggle/input/heads-or-tails-image-classification/train/heads/heads_226.jpg\n",
      "/kaggle/input/heads-or-tails-image-classification/train/heads/heads_096.jpg\n",
      "/kaggle/input/heads-or-tails-image-classification/train/heads/heads_204.jpg\n",
      "/kaggle/input/heads-or-tails-image-classification/train/heads/heads_335.jpg\n",
      "/kaggle/input/heads-or-tails-image-classification/train/heads/heads_078.jpg\n",
      "/kaggle/input/heads-or-tails-image-classification/train/heads/heads_047.jpg\n",
      "/kaggle/input/heads-or-tails-image-classification/train/heads/heads_134.jpg\n",
      "/kaggle/input/heads-or-tails-image-classification/train/heads/heads_301.jpg\n",
      "/kaggle/input/heads-or-tails-image-classification/train/heads/heads_277.jpg\n",
      "/kaggle/input/heads-or-tails-image-classification/train/heads/heads_373.jpg\n",
      "/kaggle/input/heads-or-tails-image-classification/train/heads/heads_197.jpg\n",
      "/kaggle/input/heads-or-tails-image-classification/train/heads/heads_325.jpg\n",
      "/kaggle/input/heads-or-tails-image-classification/train/heads/heads_054.jpg\n",
      "/kaggle/input/heads-or-tails-image-classification/train/heads/heads_073.jpg\n",
      "/kaggle/input/heads-or-tails-image-classification/train/heads/heads_310.jpg\n",
      "/kaggle/input/heads-or-tails-image-classification/train/heads/heads_347.jpg\n",
      "/kaggle/input/heads-or-tails-image-classification/train/heads/heads_248.jpg\n",
      "/kaggle/input/heads-or-tails-image-classification/train/heads/heads_256.jpg\n",
      "/kaggle/input/heads-or-tails-image-classification/train/heads/heads_249.jpg\n",
      "/kaggle/input/heads-or-tails-image-classification/train/heads/heads_106.jpg\n",
      "/kaggle/input/heads-or-tails-image-classification/train/heads/heads_302.jpg\n",
      "/kaggle/input/heads-or-tails-image-classification/train/heads/heads_100.jpg\n",
      "/kaggle/input/heads-or-tails-image-classification/train/heads/heads_013.jpg\n",
      "/kaggle/input/heads-or-tails-image-classification/train/heads/heads_025.jpg\n",
      "/kaggle/input/heads-or-tails-image-classification/train/heads/heads_389.jpg\n",
      "/kaggle/input/heads-or-tails-image-classification/train/heads/heads_180.jpg\n",
      "/kaggle/input/heads-or-tails-image-classification/train/heads/heads_326.jpg\n",
      "/kaggle/input/heads-or-tails-image-classification/train/heads/heads_114.jpg\n",
      "/kaggle/input/heads-or-tails-image-classification/train/heads/heads_369.jpg\n",
      "/kaggle/input/heads-or-tails-image-classification/train/heads/heads_053.jpg\n",
      "/kaggle/input/heads-or-tails-image-classification/train/heads/heads_142.jpg\n",
      "/kaggle/input/heads-or-tails-image-classification/train/heads/heads_392.jpg\n",
      "/kaggle/input/heads-or-tails-image-classification/train/heads/heads_089.jpg\n",
      "/kaggle/input/heads-or-tails-image-classification/train/heads/heads_341.jpg\n",
      "/kaggle/input/heads-or-tails-image-classification/train/heads/heads_148.jpg\n",
      "/kaggle/input/heads-or-tails-image-classification/train/heads/heads_287.jpg\n",
      "/kaggle/input/heads-or-tails-image-classification/train/heads/heads_217.jpg\n",
      "/kaggle/input/heads-or-tails-image-classification/train/heads/heads_020.jpg\n",
      "/kaggle/input/heads-or-tails-image-classification/train/heads/heads_123.jpg\n",
      "/kaggle/input/heads-or-tails-image-classification/train/heads/heads_107.jpg\n",
      "/kaggle/input/heads-or-tails-image-classification/train/heads/heads_273.jpg\n",
      "/kaggle/input/heads-or-tails-image-classification/train/heads/heads_045.jpg\n",
      "/kaggle/input/heads-or-tails-image-classification/train/heads/heads_157.jpg\n",
      "/kaggle/input/heads-or-tails-image-classification/train/heads/heads_408.jpg\n",
      "/kaggle/input/heads-or-tails-image-classification/train/tails/tails_115.jpg\n",
      "/kaggle/input/heads-or-tails-image-classification/train/tails/tails_329.jpg\n",
      "/kaggle/input/heads-or-tails-image-classification/train/tails/tails_292.jpg\n",
      "/kaggle/input/heads-or-tails-image-classification/train/tails/tails_078.jpg\n",
      "/kaggle/input/heads-or-tails-image-classification/train/tails/tails_390.jpg\n",
      "/kaggle/input/heads-or-tails-image-classification/train/tails/tails_265.jpg\n",
      "/kaggle/input/heads-or-tails-image-classification/train/tails/tails_088.jpg\n",
      "/kaggle/input/heads-or-tails-image-classification/train/tails/tails_133.jpg\n",
      "/kaggle/input/heads-or-tails-image-classification/train/tails/tails_232.jpg\n",
      "/kaggle/input/heads-or-tails-image-classification/train/tails/tails_023.jpg\n",
      "/kaggle/input/heads-or-tails-image-classification/train/tails/tails_382.jpg\n",
      "/kaggle/input/heads-or-tails-image-classification/train/tails/tails_291.jpg\n",
      "/kaggle/input/heads-or-tails-image-classification/train/tails/tails_104.jpg\n",
      "/kaggle/input/heads-or-tails-image-classification/train/tails/tails_231.jpg\n",
      "/kaggle/input/heads-or-tails-image-classification/train/tails/tails_102.jpg\n",
      "/kaggle/input/heads-or-tails-image-classification/train/tails/tails_151.jpg\n",
      "/kaggle/input/heads-or-tails-image-classification/train/tails/tails_130.jpg\n",
      "/kaggle/input/heads-or-tails-image-classification/train/tails/tails_236.jpg\n",
      "/kaggle/input/heads-or-tails-image-classification/train/tails/tails_190.jpg\n",
      "/kaggle/input/heads-or-tails-image-classification/train/tails/tails_347.jpg\n",
      "/kaggle/input/heads-or-tails-image-classification/train/tails/tails_166.jpg\n",
      "/kaggle/input/heads-or-tails-image-classification/train/tails/tails_309.jpg\n",
      "/kaggle/input/heads-or-tails-image-classification/train/tails/tails_184.jpg\n",
      "/kaggle/input/heads-or-tails-image-classification/train/tails/tails_224.jpg\n",
      "/kaggle/input/heads-or-tails-image-classification/train/tails/tails_179.jpg\n",
      "/kaggle/input/heads-or-tails-image-classification/train/tails/tails_277.jpg\n",
      "/kaggle/input/heads-or-tails-image-classification/train/tails/tails_346.jpg\n",
      "/kaggle/input/heads-or-tails-image-classification/train/tails/tails_356.jpg\n",
      "/kaggle/input/heads-or-tails-image-classification/train/tails/tails_308.jpg\n",
      "/kaggle/input/heads-or-tails-image-classification/train/tails/tails_171.jpg\n",
      "/kaggle/input/heads-or-tails-image-classification/train/tails/tails_020.jpg\n",
      "/kaggle/input/heads-or-tails-image-classification/train/tails/tails_217.jpg\n",
      "/kaggle/input/heads-or-tails-image-classification/train/tails/tails_279.jpg\n",
      "/kaggle/input/heads-or-tails-image-classification/train/tails/tails_274.jpg\n",
      "/kaggle/input/heads-or-tails-image-classification/train/tails/tails_359.jpg\n",
      "/kaggle/input/heads-or-tails-image-classification/train/tails/tails_125.jpg\n",
      "/kaggle/input/heads-or-tails-image-classification/train/tails/tails_150.jpg\n",
      "/kaggle/input/heads-or-tails-image-classification/train/tails/tails_019.jpg\n",
      "/kaggle/input/heads-or-tails-image-classification/train/tails/tails_335.jpg\n",
      "/kaggle/input/heads-or-tails-image-classification/train/tails/tails_241.jpg\n",
      "/kaggle/input/heads-or-tails-image-classification/train/tails/tails_338.jpg\n",
      "/kaggle/input/heads-or-tails-image-classification/train/tails/tails_142.jpg\n",
      "/kaggle/input/heads-or-tails-image-classification/train/tails/tails_381.jpg\n",
      "/kaggle/input/heads-or-tails-image-classification/train/tails/tails_061.jpg\n",
      "/kaggle/input/heads-or-tails-image-classification/train/tails/tails_239.jpg\n",
      "/kaggle/input/heads-or-tails-image-classification/train/tails/tails_318.jpg\n",
      "/kaggle/input/heads-or-tails-image-classification/train/tails/tails_233.jpg\n",
      "/kaggle/input/heads-or-tails-image-classification/train/tails/tails_147.jpg\n",
      "/kaggle/input/heads-or-tails-image-classification/train/tails/tails_126.jpg\n",
      "/kaggle/input/heads-or-tails-image-classification/train/tails/tails_278.jpg\n",
      "/kaggle/input/heads-or-tails-image-classification/train/tails/tails_213.jpg\n",
      "/kaggle/input/heads-or-tails-image-classification/train/tails/tails_327.jpg\n",
      "/kaggle/input/heads-or-tails-image-classification/train/tails/tails_011.jpg\n",
      "/kaggle/input/heads-or-tails-image-classification/train/tails/tails_344.jpg\n",
      "/kaggle/input/heads-or-tails-image-classification/train/tails/tails_319.jpg\n",
      "/kaggle/input/heads-or-tails-image-classification/train/tails/tails_086.jpg\n",
      "/kaggle/input/heads-or-tails-image-classification/train/tails/tails_148.jpg\n",
      "/kaggle/input/heads-or-tails-image-classification/train/tails/tails_013.jpg\n",
      "/kaggle/input/heads-or-tails-image-classification/train/tails/tails_383.jpg\n",
      "/kaggle/input/heads-or-tails-image-classification/train/tails/tails_214.jpg\n",
      "/kaggle/input/heads-or-tails-image-classification/train/tails/tails_368.jpg\n",
      "/kaggle/input/heads-or-tails-image-classification/train/tails/tails_083.jpg\n",
      "/kaggle/input/heads-or-tails-image-classification/train/tails/tails_385.jpg\n",
      "/kaggle/input/heads-or-tails-image-classification/train/tails/tails_185.jpg\n",
      "/kaggle/input/heads-or-tails-image-classification/train/tails/tails_248.jpg\n",
      "/kaggle/input/heads-or-tails-image-classification/train/tails/tails_030.jpg\n",
      "/kaggle/input/heads-or-tails-image-classification/train/tails/tails_284.jpg\n",
      "/kaggle/input/heads-or-tails-image-classification/train/tails/tails_156.jpg\n",
      "/kaggle/input/heads-or-tails-image-classification/train/tails/tails_006.jpg\n",
      "/kaggle/input/heads-or-tails-image-classification/train/tails/tails_252.jpg\n",
      "/kaggle/input/heads-or-tails-image-classification/train/tails/tails_177.jpg\n",
      "/kaggle/input/heads-or-tails-image-classification/train/tails/tails_226.jpg\n",
      "/kaggle/input/heads-or-tails-image-classification/train/tails/tails_297.jpg\n",
      "/kaggle/input/heads-or-tails-image-classification/train/tails/tails_379.jpg\n",
      "/kaggle/input/heads-or-tails-image-classification/train/tails/tails_068.jpg\n",
      "/kaggle/input/heads-or-tails-image-classification/train/tails/tails_049.jpg\n",
      "/kaggle/input/heads-or-tails-image-classification/train/tails/tails_176.jpg\n",
      "/kaggle/input/heads-or-tails-image-classification/train/tails/tails_207.jpg\n",
      "/kaggle/input/heads-or-tails-image-classification/train/tails/tails_199.jpg\n",
      "/kaggle/input/heads-or-tails-image-classification/train/tails/tails_098.jpg\n",
      "/kaggle/input/heads-or-tails-image-classification/train/tails/tails_012.jpg\n",
      "/kaggle/input/heads-or-tails-image-classification/train/tails/tails_281.jpg\n",
      "/kaggle/input/heads-or-tails-image-classification/train/tails/tails_158.jpg\n",
      "/kaggle/input/heads-or-tails-image-classification/train/tails/tails_114.jpg\n",
      "/kaggle/input/heads-or-tails-image-classification/train/tails/tails_087.jpg\n",
      "/kaggle/input/heads-or-tails-image-classification/train/tails/tails_008.jpg\n",
      "/kaggle/input/heads-or-tails-image-classification/train/tails/tails_004.jpg\n",
      "/kaggle/input/heads-or-tails-image-classification/train/tails/tails_216.jpg\n",
      "/kaggle/input/heads-or-tails-image-classification/train/tails/tails_376.jpg\n",
      "/kaggle/input/heads-or-tails-image-classification/train/tails/tails_342.jpg\n",
      "/kaggle/input/heads-or-tails-image-classification/train/tails/tails_261.jpg\n",
      "/kaggle/input/heads-or-tails-image-classification/train/tails/tails_047.jpg\n",
      "/kaggle/input/heads-or-tails-image-classification/train/tails/tails_264.jpg\n",
      "/kaggle/input/heads-or-tails-image-classification/train/tails/tails_289.jpg\n",
      "/kaggle/input/heads-or-tails-image-classification/train/tails/tails_210.jpg\n",
      "/kaggle/input/heads-or-tails-image-classification/train/tails/tails_238.jpg\n",
      "/kaggle/input/heads-or-tails-image-classification/train/tails/tails_242.jpg\n",
      "/kaggle/input/heads-or-tails-image-classification/train/tails/tails_064.jpg\n",
      "/kaggle/input/heads-or-tails-image-classification/train/tails/tails_298.jpg\n",
      "/kaggle/input/heads-or-tails-image-classification/train/tails/tails_365.jpg\n",
      "/kaggle/input/heads-or-tails-image-classification/train/tails/tails_272.jpg\n",
      "/kaggle/input/heads-or-tails-image-classification/train/tails/tails_097.jpg\n",
      "/kaggle/input/heads-or-tails-image-classification/train/tails/tails_195.jpg\n",
      "/kaggle/input/heads-or-tails-image-classification/train/tails/tails_188.jpg\n",
      "/kaggle/input/heads-or-tails-image-classification/train/tails/tails_089.jpg\n",
      "/kaggle/input/heads-or-tails-image-classification/train/tails/tails_119.jpg\n",
      "/kaggle/input/heads-or-tails-image-classification/train/tails/tails_035.jpg\n",
      "/kaggle/input/heads-or-tails-image-classification/train/tails/tails_386.jpg\n",
      "/kaggle/input/heads-or-tails-image-classification/train/tails/tails_285.jpg\n",
      "/kaggle/input/heads-or-tails-image-classification/train/tails/tails_333.jpg\n",
      "/kaggle/input/heads-or-tails-image-classification/train/tails/tails_336.jpg\n",
      "/kaggle/input/heads-or-tails-image-classification/train/tails/tails_316.jpg\n",
      "/kaggle/input/heads-or-tails-image-classification/train/tails/tails_149.jpg\n",
      "/kaggle/input/heads-or-tails-image-classification/train/tails/tails_205.jpg\n",
      "/kaggle/input/heads-or-tails-image-classification/train/tails/tails_237.jpg\n",
      "/kaggle/input/heads-or-tails-image-classification/train/tails/tails_111.jpg\n",
      "/kaggle/input/heads-or-tails-image-classification/train/tails/tails_206.jpg\n",
      "/kaggle/input/heads-or-tails-image-classification/train/tails/tails_029.jpg\n",
      "/kaggle/input/heads-or-tails-image-classification/train/tails/tails_135.jpg\n",
      "/kaggle/input/heads-or-tails-image-classification/train/tails/tails_024.jpg\n",
      "/kaggle/input/heads-or-tails-image-classification/train/tails/tails_366.jpg\n",
      "/kaggle/input/heads-or-tails-image-classification/train/tails/tails_073.jpg\n",
      "/kaggle/input/heads-or-tails-image-classification/train/tails/tails_250.jpg\n",
      "/kaggle/input/heads-or-tails-image-classification/train/tails/tails_229.jpg\n",
      "/kaggle/input/heads-or-tails-image-classification/train/tails/tails_174.jpg\n",
      "/kaggle/input/heads-or-tails-image-classification/train/tails/tails_332.jpg\n",
      "/kaggle/input/heads-or-tails-image-classification/train/tails/tails_172.jpg\n",
      "/kaggle/input/heads-or-tails-image-classification/train/tails/tails_363.jpg\n",
      "/kaggle/input/heads-or-tails-image-classification/train/tails/tails_153.jpg\n",
      "/kaggle/input/heads-or-tails-image-classification/train/tails/tails_350.jpg\n",
      "/kaggle/input/heads-or-tails-image-classification/train/tails/tails_194.jpg\n",
      "/kaggle/input/heads-or-tails-image-classification/train/tails/tails_010.jpg\n",
      "/kaggle/input/heads-or-tails-image-classification/train/tails/tails_107.jpg\n",
      "/kaggle/input/heads-or-tails-image-classification/train/tails/tails_260.jpg\n",
      "/kaggle/input/heads-or-tails-image-classification/train/tails/tails_131.jpg\n",
      "/kaggle/input/heads-or-tails-image-classification/train/tails/tails_065.jpg\n",
      "/kaggle/input/heads-or-tails-image-classification/train/tails/tails_040.jpg\n",
      "/kaggle/input/heads-or-tails-image-classification/train/tails/tails_380.jpg\n",
      "/kaggle/input/heads-or-tails-image-classification/train/tails/tails_230.jpg\n",
      "/kaggle/input/heads-or-tails-image-classification/train/tails/tails_054.jpg\n",
      "/kaggle/input/heads-or-tails-image-classification/train/tails/tails_310.jpg\n",
      "/kaggle/input/heads-or-tails-image-classification/train/tails/tails_201.jpg\n",
      "/kaggle/input/heads-or-tails-image-classification/train/tails/tails_352.jpg\n",
      "/kaggle/input/heads-or-tails-image-classification/train/tails/tails_022.jpg\n",
      "/kaggle/input/heads-or-tails-image-classification/train/tails/tails_334.jpg\n",
      "/kaggle/input/heads-or-tails-image-classification/train/tails/tails_090.jpg\n",
      "/kaggle/input/heads-or-tails-image-classification/train/tails/tails_254.jpg\n",
      "/kaggle/input/heads-or-tails-image-classification/train/tails/tails_136.jpg\n",
      "/kaggle/input/heads-or-tails-image-classification/train/tails/tails_220.jpg\n",
      "/kaggle/input/heads-or-tails-image-classification/train/tails/tails_002.jpg\n",
      "/kaggle/input/heads-or-tails-image-classification/train/tails/tails_037.jpg\n",
      "/kaggle/input/heads-or-tails-image-classification/train/tails/tails_286.jpg\n",
      "/kaggle/input/heads-or-tails-image-classification/train/tails/tails_137.jpg\n",
      "/kaggle/input/heads-or-tails-image-classification/train/tails/tails_218.jpg\n",
      "/kaggle/input/heads-or-tails-image-classification/train/tails/tails_045.jpg\n",
      "/kaggle/input/heads-or-tails-image-classification/train/tails/tails_178.jpg\n",
      "/kaggle/input/heads-or-tails-image-classification/train/tails/tails_154.jpg\n",
      "/kaggle/input/heads-or-tails-image-classification/train/tails/tails_247.jpg\n",
      "/kaggle/input/heads-or-tails-image-classification/train/tails/tails_032.jpg\n",
      "/kaggle/input/heads-or-tails-image-classification/train/tails/tails_200.jpg\n",
      "/kaggle/input/heads-or-tails-image-classification/train/tails/tails_300.jpg\n",
      "/kaggle/input/heads-or-tails-image-classification/train/tails/tails_165.jpg\n",
      "/kaggle/input/heads-or-tails-image-classification/train/tails/tails_212.jpg\n",
      "/kaggle/input/heads-or-tails-image-classification/train/tails/tails_140.jpg\n",
      "/kaggle/input/heads-or-tails-image-classification/train/tails/tails_092.jpg\n",
      "/kaggle/input/heads-or-tails-image-classification/train/tails/tails_328.jpg\n",
      "/kaggle/input/heads-or-tails-image-classification/train/tails/tails_360.jpg\n",
      "/kaggle/input/heads-or-tails-image-classification/train/tails/tails_127.jpg\n",
      "/kaggle/input/heads-or-tails-image-classification/train/tails/tails_180.jpg\n",
      "/kaggle/input/heads-or-tails-image-classification/train/tails/tails_362.jpg\n",
      "/kaggle/input/heads-or-tails-image-classification/train/tails/tails_367.jpg\n",
      "/kaggle/input/heads-or-tails-image-classification/train/tails/tails_170.jpg\n",
      "/kaggle/input/heads-or-tails-image-classification/train/tails/tails_080.jpg\n",
      "/kaggle/input/heads-or-tails-image-classification/train/tails/tails_209.jpg\n",
      "/kaggle/input/heads-or-tails-image-classification/train/tails/tails_311.jpg\n",
      "/kaggle/input/heads-or-tails-image-classification/train/tails/tails_163.jpg\n",
      "/kaggle/input/heads-or-tails-image-classification/train/tails/tails_123.jpg\n",
      "/kaggle/input/heads-or-tails-image-classification/train/tails/tails_240.jpg\n",
      "/kaggle/input/heads-or-tails-image-classification/train/tails/tails_387.jpg\n",
      "/kaggle/input/heads-or-tails-image-classification/train/tails/tails_198.jpg\n",
      "/kaggle/input/heads-or-tails-image-classification/train/tails/tails_060.jpg\n",
      "/kaggle/input/heads-or-tails-image-classification/train/tails/tails_243.jpg\n",
      "/kaggle/input/heads-or-tails-image-classification/train/tails/tails_234.jpg\n",
      "/kaggle/input/heads-or-tails-image-classification/train/tails/tails_075.jpg\n",
      "/kaggle/input/heads-or-tails-image-classification/train/tails/tails_320.jpg\n",
      "/kaggle/input/heads-or-tails-image-classification/train/tails/tails_276.jpg\n",
      "/kaggle/input/heads-or-tails-image-classification/train/tails/tails_270.jpg\n",
      "/kaggle/input/heads-or-tails-image-classification/train/tails/tails_370.jpg\n",
      "/kaggle/input/heads-or-tails-image-classification/train/tails/tails_094.jpg\n",
      "/kaggle/input/heads-or-tails-image-classification/train/tails/tails_371.jpg\n",
      "/kaggle/input/heads-or-tails-image-classification/train/tails/tails_223.jpg\n",
      "/kaggle/input/heads-or-tails-image-classification/train/tails/tails_193.jpg\n",
      "/kaggle/input/heads-or-tails-image-classification/train/tails/tails_121.jpg\n",
      "/kaggle/input/heads-or-tails-image-classification/train/tails/tails_268.jpg\n",
      "/kaggle/input/heads-or-tails-image-classification/train/tails/tails_116.jpg\n",
      "/kaggle/input/heads-or-tails-image-classification/train/tails/tails_322.jpg\n",
      "/kaggle/input/heads-or-tails-image-classification/train/tails/tails_164.jpg\n",
      "/kaggle/input/heads-or-tails-image-classification/train/tails/tails_050.jpg\n",
      "/kaggle/input/heads-or-tails-image-classification/train/tails/tails_058.jpg\n",
      "/kaggle/input/heads-or-tails-image-classification/train/tails/tails_388.jpg\n",
      "/kaggle/input/heads-or-tails-image-classification/train/tails/tails_043.jpg\n",
      "/kaggle/input/heads-or-tails-image-classification/train/tails/tails_141.jpg\n",
      "/kaggle/input/heads-or-tails-image-classification/train/tails/tails_046.jpg\n",
      "/kaggle/input/heads-or-tails-image-classification/train/tails/tails_093.jpg\n",
      "/kaggle/input/heads-or-tails-image-classification/train/tails/tails_373.jpg\n",
      "/kaggle/input/heads-or-tails-image-classification/train/tails/tails_219.jpg\n",
      "/kaggle/input/heads-or-tails-image-classification/train/tails/tails_351.jpg\n",
      "/kaggle/input/heads-or-tails-image-classification/train/tails/tails_139.jpg\n",
      "/kaggle/input/heads-or-tails-image-classification/train/tails/tails_295.jpg\n",
      "/kaggle/input/heads-or-tails-image-classification/train/tails/tails_256.jpg\n",
      "/kaggle/input/heads-or-tails-image-classification/train/tails/tails_191.jpg\n",
      "/kaggle/input/heads-or-tails-image-classification/train/tails/tails_015.jpg\n",
      "/kaggle/input/heads-or-tails-image-classification/train/tails/tails_317.jpg\n",
      "/kaggle/input/heads-or-tails-image-classification/train/tails/tails_109.jpg\n",
      "/kaggle/input/heads-or-tails-image-classification/train/tails/tails_306.jpg\n",
      "/kaggle/input/heads-or-tails-image-classification/train/tails/tails_173.jpg\n",
      "/kaggle/input/heads-or-tails-image-classification/train/tails/tails_118.jpg\n",
      "/kaggle/input/heads-or-tails-image-classification/train/tails/tails_063.jpg\n",
      "/kaggle/input/heads-or-tails-image-classification/train/tails/tails_069.jpg\n",
      "/kaggle/input/heads-or-tails-image-classification/train/tails/tails_026.jpg\n",
      "/kaggle/input/heads-or-tails-image-classification/train/tails/tails_134.jpg\n",
      "/kaggle/input/heads-or-tails-image-classification/train/tails/tails_048.jpg\n",
      "/kaggle/input/heads-or-tails-image-classification/train/tails/tails_203.jpg\n",
      "/kaggle/input/heads-or-tails-image-classification/train/tails/tails_072.jpg\n",
      "/kaggle/input/heads-or-tails-image-classification/train/tails/tails_389.jpg\n",
      "/kaggle/input/heads-or-tails-image-classification/train/tails/tails_067.jpg\n",
      "/kaggle/input/heads-or-tails-image-classification/train/tails/tails_028.jpg\n",
      "/kaggle/input/heads-or-tails-image-classification/train/tails/tails_208.jpg\n",
      "/kaggle/input/heads-or-tails-image-classification/train/tails/tails_305.jpg\n",
      "/kaggle/input/heads-or-tails-image-classification/train/tails/tails_321.jpg\n",
      "/kaggle/input/heads-or-tails-image-classification/train/tails/tails_034.jpg\n",
      "/kaggle/input/heads-or-tails-image-classification/train/tails/tails_361.jpg\n",
      "/kaggle/input/heads-or-tails-image-classification/train/tails/tails_096.jpg\n",
      "/kaggle/input/heads-or-tails-image-classification/train/tails/tails_377.jpg\n",
      "/kaggle/input/heads-or-tails-image-classification/train/tails/tails_103.jpg\n",
      "/kaggle/input/heads-or-tails-image-classification/train/tails/tails_155.jpg\n",
      "/kaggle/input/heads-or-tails-image-classification/train/tails/tails_059.jpg\n",
      "/kaggle/input/heads-or-tails-image-classification/train/tails/tails_246.jpg\n",
      "/kaggle/input/heads-or-tails-image-classification/train/tails/tails_143.jpg\n",
      "/kaggle/input/heads-or-tails-image-classification/train/tails/tails_066.jpg\n",
      "/kaggle/input/heads-or-tails-image-classification/train/tails/tails_105.jpg\n",
      "/kaggle/input/heads-or-tails-image-classification/train/tails/tails_187.jpg\n",
      "/kaggle/input/heads-or-tails-image-classification/train/tails/tails_152.jpg\n",
      "/kaggle/input/heads-or-tails-image-classification/train/tails/tails_369.jpg\n",
      "/kaggle/input/heads-or-tails-image-classification/train/tails/tails_144.jpg\n",
      "/kaggle/input/heads-or-tails-image-classification/train/tails/tails_325.jpg\n",
      "/kaggle/input/heads-or-tails-image-classification/train/tails/tails_259.jpg\n",
      "/kaggle/input/heads-or-tails-image-classification/train/tails/tails_079.jpg\n",
      "/kaggle/input/heads-or-tails-image-classification/train/tails/tails_253.jpg\n",
      "/kaggle/input/heads-or-tails-image-classification/train/tails/tails_053.jpg\n",
      "/kaggle/input/heads-or-tails-image-classification/train/tails/tails_225.jpg\n",
      "/kaggle/input/heads-or-tails-image-classification/train/tails/tails_339.jpg\n",
      "/kaggle/input/heads-or-tails-image-classification/train/tails/tails_315.jpg\n",
      "/kaggle/input/heads-or-tails-image-classification/train/tails/tails_267.jpg\n",
      "/kaggle/input/heads-or-tails-image-classification/train/tails/tails_122.jpg\n",
      "/kaggle/input/heads-or-tails-image-classification/train/tails/tails_062.jpg\n",
      "/kaggle/input/heads-or-tails-image-classification/train/tails/tails_255.jpg\n",
      "/kaggle/input/heads-or-tails-image-classification/train/tails/tails_001.jpg\n",
      "/kaggle/input/heads-or-tails-image-classification/train/tails/tails_016.jpg\n",
      "/kaggle/input/heads-or-tails-image-classification/train/tails/tails_129.jpg\n",
      "/kaggle/input/heads-or-tails-image-classification/train/tails/tails_146.jpg\n",
      "/kaggle/input/heads-or-tails-image-classification/train/tails/tails_099.jpg\n",
      "/kaggle/input/heads-or-tails-image-classification/train/tails/tails_007.jpg\n",
      "/kaggle/input/heads-or-tails-image-classification/train/tails/tails_167.jpg\n",
      "/kaggle/input/heads-or-tails-image-classification/train/tails/tails_112.jpg\n",
      "/kaggle/input/heads-or-tails-image-classification/train/tails/tails_221.jpg\n",
      "/kaggle/input/heads-or-tails-image-classification/train/tails/tails_183.jpg\n",
      "/kaggle/input/heads-or-tails-image-classification/train/tails/tails_084.jpg\n",
      "/kaggle/input/heads-or-tails-image-classification/train/tails/tails_343.jpg\n",
      "/kaggle/input/heads-or-tails-image-classification/train/tails/tails_017.jpg\n",
      "/kaggle/input/heads-or-tails-image-classification/train/tails/tails_348.jpg\n",
      "/kaggle/input/heads-or-tails-image-classification/train/tails/tails_251.jpg\n",
      "/kaggle/input/heads-or-tails-image-classification/train/tails/tails_262.jpg\n",
      "/kaggle/input/heads-or-tails-image-classification/train/tails/tails_378.jpg\n",
      "/kaggle/input/heads-or-tails-image-classification/train/tails/tails_249.jpg\n",
      "/kaggle/input/heads-or-tails-image-classification/train/tails/tails_033.jpg\n",
      "/kaggle/input/heads-or-tails-image-classification/train/tails/tails_257.jpg\n",
      "/kaggle/input/heads-or-tails-image-classification/train/tails/tails_025.jpg\n",
      "/kaggle/input/heads-or-tails-image-classification/train/tails/tails_159.jpg\n",
      "/kaggle/input/heads-or-tails-image-classification/train/tails/tails_375.jpg\n",
      "/kaggle/input/heads-or-tails-image-classification/train/tails/tails_202.jpg\n",
      "/kaggle/input/heads-or-tails-image-classification/train/tails/tails_304.jpg\n",
      "/kaggle/input/heads-or-tails-image-classification/train/tails/tails_175.jpg\n",
      "/kaggle/input/heads-or-tails-image-classification/train/tails/tails_145.jpg\n",
      "/kaggle/input/heads-or-tails-image-classification/train/tails/tails_052.jpg\n",
      "/kaggle/input/heads-or-tails-image-classification/train/tails/tails_157.jpg\n",
      "/kaggle/input/heads-or-tails-image-classification/train/tails/tails_018.jpg\n",
      "/kaggle/input/heads-or-tails-image-classification/train/tails/tails_132.jpg\n",
      "/kaggle/input/heads-or-tails-image-classification/train/tails/tails_345.jpg\n",
      "/kaggle/input/heads-or-tails-image-classification/train/tails/tails_357.jpg\n",
      "/kaggle/input/heads-or-tails-image-classification/train/tails/tails_095.jpg\n",
      "/kaggle/input/heads-or-tails-image-classification/train/tails/tails_120.jpg\n",
      "/kaggle/input/heads-or-tails-image-classification/train/tails/tails_197.jpg\n",
      "/kaggle/input/heads-or-tails-image-classification/train/tails/tails_290.jpg\n",
      "/kaggle/input/heads-or-tails-image-classification/train/tails/tails_323.jpg\n",
      "/kaggle/input/heads-or-tails-image-classification/train/tails/tails_044.jpg\n",
      "/kaggle/input/heads-or-tails-image-classification/train/tails/tails_280.jpg\n",
      "/kaggle/input/heads-or-tails-image-classification/train/tails/tails_211.jpg\n",
      "/kaggle/input/heads-or-tails-image-classification/train/tails/tails_341.jpg\n",
      "/kaggle/input/heads-or-tails-image-classification/train/tails/tails_307.jpg\n",
      "/kaggle/input/heads-or-tails-image-classification/train/tails/tails_330.jpg\n",
      "/kaggle/input/heads-or-tails-image-classification/train/tails/tails_003.jpg\n",
      "/kaggle/input/heads-or-tails-image-classification/train/tails/tails_076.jpg\n",
      "/kaggle/input/heads-or-tails-image-classification/train/tails/tails_110.jpg\n",
      "/kaggle/input/heads-or-tails-image-classification/train/tails/tails_056.jpg\n",
      "/kaggle/input/heads-or-tails-image-classification/train/tails/tails_228.jpg\n",
      "/kaggle/input/heads-or-tails-image-classification/train/tails/tails_299.jpg\n",
      "/kaggle/input/heads-or-tails-image-classification/train/tails/tails_074.jpg\n",
      "/kaggle/input/heads-or-tails-image-classification/train/tails/tails_288.jpg\n",
      "/kaggle/input/heads-or-tails-image-classification/train/tails/tails_196.jpg\n",
      "/kaggle/input/heads-or-tails-image-classification/train/tails/tails_263.jpg\n",
      "/kaggle/input/heads-or-tails-image-classification/train/tails/tails_021.jpg\n",
      "/kaggle/input/heads-or-tails-image-classification/train/tails/tails_222.jpg\n",
      "/kaggle/input/heads-or-tails-image-classification/train/tails/tails_294.jpg\n",
      "/kaggle/input/heads-or-tails-image-classification/train/tails/tails_186.jpg\n",
      "/kaggle/input/heads-or-tails-image-classification/train/tails/tails_287.jpg\n",
      "/kaggle/input/heads-or-tails-image-classification/train/tails/tails_051.jpg\n",
      "/kaggle/input/heads-or-tails-image-classification/train/tails/tails_283.jpg\n",
      "/kaggle/input/heads-or-tails-image-classification/train/tails/tails_326.jpg\n",
      "/kaggle/input/heads-or-tails-image-classification/train/tails/tails_384.jpg\n",
      "/kaggle/input/heads-or-tails-image-classification/train/tails/tails_055.jpg\n",
      "/kaggle/input/heads-or-tails-image-classification/train/tails/tails_009.jpg\n",
      "/kaggle/input/heads-or-tails-image-classification/train/tails/tails_282.jpg\n",
      "/kaggle/input/heads-or-tails-image-classification/train/tails/tails_038.jpg\n",
      "/kaggle/input/heads-or-tails-image-classification/train/tails/tails_039.jpg\n",
      "/kaggle/input/heads-or-tails-image-classification/train/tails/tails_027.jpg\n",
      "/kaggle/input/heads-or-tails-image-classification/train/tails/tails_244.jpg\n",
      "/kaggle/input/heads-or-tails-image-classification/train/tails/tails_071.jpg\n",
      "/kaggle/input/heads-or-tails-image-classification/train/tails/tails_168.jpg\n",
      "/kaggle/input/heads-or-tails-image-classification/train/tails/tails_275.jpg\n",
      "/kaggle/input/heads-or-tails-image-classification/train/tails/tails_372.jpg\n",
      "/kaggle/input/heads-or-tails-image-classification/train/tails/tails_312.jpg\n",
      "/kaggle/input/heads-or-tails-image-classification/train/tails/tails_160.jpg\n",
      "/kaggle/input/heads-or-tails-image-classification/train/tails/tails_273.jpg\n",
      "/kaggle/input/heads-or-tails-image-classification/train/tails/tails_355.jpg\n",
      "/kaggle/input/heads-or-tails-image-classification/train/tails/tails_353.jpg\n",
      "/kaggle/input/heads-or-tails-image-classification/train/tails/tails_303.jpg\n",
      "/kaggle/input/heads-or-tails-image-classification/train/tails/tails_258.jpg\n",
      "/kaggle/input/heads-or-tails-image-classification/train/tails/tails_101.jpg\n",
      "/kaggle/input/heads-or-tails-image-classification/train/tails/tails_245.jpg\n",
      "/kaggle/input/heads-or-tails-image-classification/train/tails/tails_337.jpg\n",
      "/kaggle/input/heads-or-tails-image-classification/train/tails/tails_128.jpg\n",
      "/kaggle/input/heads-or-tails-image-classification/train/tails/tails_057.jpg\n",
      "/kaggle/input/heads-or-tails-image-classification/train/tails/tails_036.jpg\n",
      "/kaggle/input/heads-or-tails-image-classification/train/tails/tails_162.jpg\n",
      "/kaggle/input/heads-or-tails-image-classification/train/tails/tails_302.jpg\n",
      "/kaggle/input/heads-or-tails-image-classification/train/tails/tails_331.jpg\n",
      "/kaggle/input/heads-or-tails-image-classification/train/tails/tails_358.jpg\n",
      "/kaggle/input/heads-or-tails-image-classification/train/tails/tails_340.jpg\n",
      "/kaggle/input/heads-or-tails-image-classification/train/tails/tails_005.jpg\n",
      "/kaggle/input/heads-or-tails-image-classification/train/tails/tails_271.jpg\n",
      "/kaggle/input/heads-or-tails-image-classification/train/tails/tails_014.jpg\n",
      "/kaggle/input/heads-or-tails-image-classification/train/tails/tails_269.jpg\n",
      "/kaggle/input/heads-or-tails-image-classification/train/tails/tails_113.jpg\n",
      "/kaggle/input/heads-or-tails-image-classification/train/tails/tails_138.jpg\n",
      "/kaggle/input/heads-or-tails-image-classification/train/tails/tails_266.jpg\n",
      "/kaggle/input/heads-or-tails-image-classification/train/tails/tails_301.jpg\n",
      "/kaggle/input/heads-or-tails-image-classification/train/tails/tails_082.jpg\n",
      "/kaggle/input/heads-or-tails-image-classification/train/tails/tails_354.jpg\n",
      "/kaggle/input/heads-or-tails-image-classification/train/tails/tails_124.jpg\n",
      "/kaggle/input/heads-or-tails-image-classification/train/tails/tails_161.jpg\n",
      "/kaggle/input/heads-or-tails-image-classification/train/tails/tails_192.jpg\n",
      "/kaggle/input/heads-or-tails-image-classification/train/tails/tails_235.jpg\n",
      "/kaggle/input/heads-or-tails-image-classification/train/tails/tails_314.jpg\n",
      "/kaggle/input/heads-or-tails-image-classification/train/tails/tails_117.jpg\n",
      "/kaggle/input/heads-or-tails-image-classification/train/tails/tails_031.jpg\n",
      "/kaggle/input/heads-or-tails-image-classification/train/tails/tails_215.jpg\n",
      "/kaggle/input/heads-or-tails-image-classification/train/tails/tails_296.jpg\n",
      "/kaggle/input/heads-or-tails-image-classification/train/tails/tails_204.jpg\n",
      "/kaggle/input/heads-or-tails-image-classification/train/tails/tails_042.jpg\n",
      "/kaggle/input/heads-or-tails-image-classification/train/tails/tails_091.jpg\n",
      "/kaggle/input/heads-or-tails-image-classification/train/tails/tails_081.jpg\n",
      "/kaggle/input/heads-or-tails-image-classification/train/tails/tails_227.jpg\n",
      "/kaggle/input/heads-or-tails-image-classification/train/tails/tails_182.jpg\n",
      "/kaggle/input/heads-or-tails-image-classification/train/tails/tails_189.jpg\n",
      "/kaggle/input/heads-or-tails-image-classification/train/tails/tails_181.jpg\n",
      "/kaggle/input/heads-or-tails-image-classification/train/tails/tails_077.jpg\n",
      "/kaggle/input/heads-or-tails-image-classification/train/tails/tails_349.jpg\n",
      "/kaggle/input/heads-or-tails-image-classification/train/tails/tails_041.jpg\n",
      "/kaggle/input/heads-or-tails-image-classification/train/tails/tails_070.jpg\n",
      "/kaggle/input/heads-or-tails-image-classification/train/tails/tails_364.jpg\n",
      "/kaggle/input/heads-or-tails-image-classification/train/tails/tails_100.jpg\n",
      "/kaggle/input/heads-or-tails-image-classification/train/tails/tails_106.jpg\n",
      "/kaggle/input/heads-or-tails-image-classification/train/tails/tails_108.jpg\n",
      "/kaggle/input/heads-or-tails-image-classification/train/tails/tails_374.jpg\n",
      "/kaggle/input/heads-or-tails-image-classification/train/tails/tails_085.jpg\n",
      "/kaggle/input/heads-or-tails-image-classification/train/tails/tails_169.jpg\n",
      "/kaggle/input/heads-or-tails-image-classification/train/tails/tails_313.jpg\n",
      "/kaggle/input/heads-or-tails-image-classification/train/tails/tails_324.jpg\n",
      "/kaggle/input/heads-or-tails-image-classification/train/tails/tails_293.jpg\n"
     ]
    }
   ],
   "source": [
    "# This Python 3 environment comes with many helpful analytics libraries installed\n",
    "# It is defined by the kaggle/python Docker image: https://github.com/kaggle/docker-python\n",
    "# For example, here's several helpful packages to load\n",
    "\n",
    "import numpy as np # linear algebra\n",
    "import pandas as pd # data processing, CSV file I/O (e.g. pd.read_csv)\n",
    "\n",
    "# Input data files are available in the read-only \"../input/\" directory\n",
    "# For example, running this (by clicking run or pressing Shift+Enter) will list all files under the input directory\n",
    "\n",
    "import os\n",
    "for dirname, _, filenames in os.walk('/kaggle/input'):\n",
    "    for filename in filenames:\n",
    "        print(os.path.join(dirname, filename))\n",
    "\n",
    "# You can write up to 20GB to the current directory (/kaggle/working/) that gets preserved as output when you create a version using \"Save & Run All\" \n",
    "# You can also write temporary files to /kaggle/temp/, but they won't be saved outside of the current session"
   ]
  },
  {
   "cell_type": "markdown",
   "id": "790aeb1a",
   "metadata": {
    "papermill": {
     "duration": 0.007022,
     "end_time": "2025-06-08T10:15:07.217774",
     "exception": false,
     "start_time": "2025-06-08T10:15:07.210752",
     "status": "completed"
    },
    "tags": []
   },
   "source": [
    "# Importing Libraries"
   ]
  },
  {
   "cell_type": "code",
   "execution_count": 2,
   "id": "6a1a607a",
   "metadata": {
    "execution": {
     "iopub.execute_input": "2025-06-08T10:15:07.233380Z",
     "iopub.status.busy": "2025-06-08T10:15:07.232395Z",
     "iopub.status.idle": "2025-06-08T10:15:28.118678Z",
     "shell.execute_reply": "2025-06-08T10:15:28.117717Z"
    },
    "papermill": {
     "duration": 20.895871,
     "end_time": "2025-06-08T10:15:28.120477",
     "exception": false,
     "start_time": "2025-06-08T10:15:07.224606",
     "status": "completed"
    },
    "tags": []
   },
   "outputs": [
    {
     "name": "stderr",
     "output_type": "stream",
     "text": [
      "WARNING: All log messages before absl::InitializeLog() is called are written to STDERR\n",
      "E0000 00:00:1749377711.915226      13 cuda_dnn.cc:8310] Unable to register cuDNN factory: Attempting to register factory for plugin cuDNN when one has already been registered\n",
      "E0000 00:00:1749377711.997093      13 cuda_blas.cc:1418] Unable to register cuBLAS factory: Attempting to register factory for plugin cuBLAS when one has already been registered\n"
     ]
    }
   ],
   "source": [
    "import os\n",
    "os.environ['TF_CPP_MIN_LOG_LEVEL'] = '3'\n",
    "\n",
    "import numpy as np\n",
    "import pandas as pd\n",
    "import matplotlib.pyplot as plt\n",
    "import seaborn as sns\n",
    "from PIL import Image\n",
    "from sklearn.model_selection import train_test_split\n",
    "from sklearn.metrics import accuracy_score\n",
    "import tensorflow as tf\n",
    "from tensorflow.keras import layers, models"
   ]
  },
  {
   "cell_type": "markdown",
   "id": "a3d730ce",
   "metadata": {
    "papermill": {
     "duration": 0.006692,
     "end_time": "2025-06-08T10:15:28.134464",
     "exception": false,
     "start_time": "2025-06-08T10:15:28.127772",
     "status": "completed"
    },
    "tags": []
   },
   "source": [
    "# Load and Explore DATA"
   ]
  },
  {
   "cell_type": "markdown",
   "id": "0e20b73f",
   "metadata": {
    "papermill": {
     "duration": 0.006657,
     "end_time": "2025-06-08T10:15:28.148086",
     "exception": false,
     "start_time": "2025-06-08T10:15:28.141429",
     "status": "completed"
    },
    "tags": []
   },
   "source": [
    "Load labels"
   ]
  },
  {
   "cell_type": "code",
   "execution_count": 3,
   "id": "f778d767",
   "metadata": {
    "execution": {
     "iopub.execute_input": "2025-06-08T10:15:28.164558Z",
     "iopub.status.busy": "2025-06-08T10:15:28.163764Z",
     "iopub.status.idle": "2025-06-08T10:15:28.200494Z",
     "shell.execute_reply": "2025-06-08T10:15:28.199493Z"
    },
    "papermill": {
     "duration": 0.046368,
     "end_time": "2025-06-08T10:15:28.202069",
     "exception": false,
     "start_time": "2025-06-08T10:15:28.155701",
     "status": "completed"
    },
    "tags": []
   },
   "outputs": [
    {
     "name": "stdout",
     "output_type": "stream",
     "text": [
      "Total training images: 800\n"
     ]
    },
    {
     "data": {
      "text/html": [
       "<div>\n",
       "<style scoped>\n",
       "    .dataframe tbody tr th:only-of-type {\n",
       "        vertical-align: middle;\n",
       "    }\n",
       "\n",
       "    .dataframe tbody tr th {\n",
       "        vertical-align: top;\n",
       "    }\n",
       "\n",
       "    .dataframe thead th {\n",
       "        text-align: right;\n",
       "    }\n",
       "</style>\n",
       "<table border=\"1\" class=\"dataframe\">\n",
       "  <thead>\n",
       "    <tr style=\"text-align: right;\">\n",
       "      <th></th>\n",
       "      <th>filepath</th>\n",
       "      <th>label</th>\n",
       "    </tr>\n",
       "  </thead>\n",
       "  <tbody>\n",
       "    <tr>\n",
       "      <th>0</th>\n",
       "      <td>/kaggle/input/heads-or-tails-image-classificat...</td>\n",
       "      <td>heads</td>\n",
       "    </tr>\n",
       "    <tr>\n",
       "      <th>1</th>\n",
       "      <td>/kaggle/input/heads-or-tails-image-classificat...</td>\n",
       "      <td>heads</td>\n",
       "    </tr>\n",
       "    <tr>\n",
       "      <th>2</th>\n",
       "      <td>/kaggle/input/heads-or-tails-image-classificat...</td>\n",
       "      <td>heads</td>\n",
       "    </tr>\n",
       "    <tr>\n",
       "      <th>3</th>\n",
       "      <td>/kaggle/input/heads-or-tails-image-classificat...</td>\n",
       "      <td>heads</td>\n",
       "    </tr>\n",
       "    <tr>\n",
       "      <th>4</th>\n",
       "      <td>/kaggle/input/heads-or-tails-image-classificat...</td>\n",
       "      <td>heads</td>\n",
       "    </tr>\n",
       "  </tbody>\n",
       "</table>\n",
       "</div>"
      ],
      "text/plain": [
       "                                            filepath  label\n",
       "0  /kaggle/input/heads-or-tails-image-classificat...  heads\n",
       "1  /kaggle/input/heads-or-tails-image-classificat...  heads\n",
       "2  /kaggle/input/heads-or-tails-image-classificat...  heads\n",
       "3  /kaggle/input/heads-or-tails-image-classificat...  heads\n",
       "4  /kaggle/input/heads-or-tails-image-classificat...  heads"
      ]
     },
     "execution_count": 3,
     "metadata": {},
     "output_type": "execute_result"
    }
   ],
   "source": [
    "import os\n",
    "import pandas as pd\n",
    "\n",
    "# Define train path\n",
    "train_dir = \"/kaggle/input/heads-or-tails-image-classification/train\"\n",
    "\n",
    "# Create list of image paths and labels\n",
    "data = []\n",
    "for label in ['heads', 'tails']:\n",
    "    label_dir = os.path.join(train_dir, label)\n",
    "    for fname in os.listdir(label_dir):\n",
    "        if fname.endswith('.jpg') or fname.endswith('.png'):\n",
    "            path = os.path.join(label_dir, fname)\n",
    "            data.append((path, label))\n",
    "\n",
    "# Create DataFrame\n",
    "df = pd.DataFrame(data, columns=[\"filepath\", \"label\"])\n",
    "print(f\"Total training images: {len(df)}\")\n",
    "df.head()\n"
   ]
  },
  {
   "cell_type": "markdown",
   "id": "cb622d7a",
   "metadata": {
    "papermill": {
     "duration": 0.007236,
     "end_time": "2025-06-08T10:15:28.217070",
     "exception": false,
     "start_time": "2025-06-08T10:15:28.209834",
     "status": "completed"
    },
    "tags": []
   },
   "source": [
    "# Vaildation split and Visualization"
   ]
  },
  {
   "cell_type": "code",
   "execution_count": 4,
   "id": "b526a6ab",
   "metadata": {
    "execution": {
     "iopub.execute_input": "2025-06-08T10:15:28.233197Z",
     "iopub.status.busy": "2025-06-08T10:15:28.232752Z",
     "iopub.status.idle": "2025-06-08T10:15:28.237794Z",
     "shell.execute_reply": "2025-06-08T10:15:28.236532Z"
    },
    "papermill": {
     "duration": 0.015062,
     "end_time": "2025-06-08T10:15:28.239481",
     "exception": false,
     "start_time": "2025-06-08T10:15:28.224419",
     "status": "completed"
    },
    "tags": []
   },
   "outputs": [],
   "source": [
    "from sklearn.model_selection import train_test_split\n",
    "import seaborn as sns\n",
    "import matplotlib.pyplot as plt"
   ]
  },
  {
   "cell_type": "markdown",
   "id": "bfac4325",
   "metadata": {
    "papermill": {
     "duration": 0.006714,
     "end_time": "2025-06-08T10:15:28.253400",
     "exception": false,
     "start_time": "2025-06-08T10:15:28.246686",
     "status": "completed"
    },
    "tags": []
   },
   "source": [
    "Split into train and validation sets"
   ]
  },
  {
   "cell_type": "code",
   "execution_count": 5,
   "id": "dadce00a",
   "metadata": {
    "execution": {
     "iopub.execute_input": "2025-06-08T10:15:28.269329Z",
     "iopub.status.busy": "2025-06-08T10:15:28.269000Z",
     "iopub.status.idle": "2025-06-08T10:15:28.287628Z",
     "shell.execute_reply": "2025-06-08T10:15:28.286617Z"
    },
    "papermill": {
     "duration": 0.02871,
     "end_time": "2025-06-08T10:15:28.289412",
     "exception": false,
     "start_time": "2025-06-08T10:15:28.260702",
     "status": "completed"
    },
    "tags": []
   },
   "outputs": [],
   "source": [
    "train_df, val_df = train_test_split(df, test_size=0.2, stratify=df['label'], random_state=42)"
   ]
  },
  {
   "cell_type": "markdown",
   "id": "f8dcd4fb",
   "metadata": {
    "papermill": {
     "duration": 0.006985,
     "end_time": "2025-06-08T10:15:28.303692",
     "exception": false,
     "start_time": "2025-06-08T10:15:28.296707",
     "status": "completed"
    },
    "tags": []
   },
   "source": [
    "Check class balance"
   ]
  },
  {
   "cell_type": "code",
   "execution_count": 6,
   "id": "b235045e",
   "metadata": {
    "execution": {
     "iopub.execute_input": "2025-06-08T10:15:28.319409Z",
     "iopub.status.busy": "2025-06-08T10:15:28.319103Z",
     "iopub.status.idle": "2025-06-08T10:15:28.709896Z",
     "shell.execute_reply": "2025-06-08T10:15:28.708477Z"
    },
    "papermill": {
     "duration": 0.401448,
     "end_time": "2025-06-08T10:15:28.712275",
     "exception": false,
     "start_time": "2025-06-08T10:15:28.310827",
     "status": "completed"
    },
    "tags": []
   },
   "outputs": [
    {
     "data": {
      "image/png": "[encoded data removed]",
      "text/plain": [
       "<Figure size 640x480 with 1 Axes>"
      ]
     },
     "metadata": {},
     "output_type": "display_data"
    },
    {
     "data": {
      "image/png": "[encoded data removed]",
      "text/plain": [
       "<Figure size 640x480 with 1 Axes>"
      ]
     },
     "metadata": {},
     "output_type": "display_data"
    }
   ],
   "source": [
    "sns.countplot(data=train_df, x='label')\n",
    "plt.title('Training Class Distribution')\n",
    "plt.show()\n",
    "\n",
    "sns.countplot(data=val_df, x='label')\n",
    "plt.title('Validation Class Distribution')\n",
    "plt.show()"
   ]
  },
  {
   "cell_type": "markdown",
   "id": "30e4670a",
   "metadata": {
    "papermill": {
     "duration": 0.010875,
     "end_time": "2025-06-08T10:15:28.737107",
     "exception": false,
     "start_time": "2025-06-08T10:15:28.726232",
     "status": "completed"
    },
    "tags": []
   },
   "source": [
    "# Image Preprocessing with ImageDataGenerator"
   ]
  },
  {
   "cell_type": "code",
   "execution_count": 7,
   "id": "067b673a",
   "metadata": {
    "execution": {
     "iopub.execute_input": "2025-06-08T10:15:28.756997Z",
     "iopub.status.busy": "2025-06-08T10:15:28.756581Z",
     "iopub.status.idle": "2025-06-08T10:15:28.762566Z",
     "shell.execute_reply": "2025-06-08T10:15:28.761682Z"
    },
    "papermill": {
     "duration": 0.016116,
     "end_time": "2025-06-08T10:15:28.764078",
     "exception": false,
     "start_time": "2025-06-08T10:15:28.747962",
     "status": "completed"
    },
    "tags": []
   },
   "outputs": [],
   "source": [
    "from tensorflow.keras.preprocessing.image import ImageDataGenerator\n",
    "\n",
    "IMG_SIZE = (128, 128)\n",
    "BATCH_SIZE = 32"
   ]
  },
  {
   "cell_type": "markdown",
   "id": "30d5f425",
   "metadata": {
    "papermill": {
     "duration": 0.007562,
     "end_time": "2025-06-08T10:15:28.779816",
     "exception": false,
     "start_time": "2025-06-08T10:15:28.772254",
     "status": "completed"
    },
    "tags": []
   },
   "source": [
    "Data generators"
   ]
  },
  {
   "cell_type": "code",
   "execution_count": 8,
   "id": "ebeff40c",
   "metadata": {
    "execution": {
     "iopub.execute_input": "2025-06-08T10:15:28.797580Z",
     "iopub.status.busy": "2025-06-08T10:15:28.796704Z",
     "iopub.status.idle": "2025-06-08T10:15:28.801820Z",
     "shell.execute_reply": "2025-06-08T10:15:28.801019Z"
    },
    "papermill": {
     "duration": 0.015706,
     "end_time": "2025-06-08T10:15:28.803604",
     "exception": false,
     "start_time": "2025-06-08T10:15:28.787898",
     "status": "completed"
    },
    "tags": []
   },
   "outputs": [],
   "source": [
    "train_gen = ImageDataGenerator(\n",
    "    rescale=1./255,\n",
    "    rotation_range=20,\n",
    "    zoom_range=0.2,\n",
    "    horizontal_flip=True\n",
    ")\n",
    "val_gen = ImageDataGenerator(rescale=1./255)"
   ]
  },
  {
   "cell_type": "markdown",
   "id": "0cda457b",
   "metadata": {
    "papermill": {
     "duration": 0.007832,
     "end_time": "2025-06-08T10:15:28.819481",
     "exception": false,
     "start_time": "2025-06-08T10:15:28.811649",
     "status": "completed"
    },
    "tags": []
   },
   "source": [
    "Flow from Data Frame"
   ]
  },
  {
   "cell_type": "code",
   "execution_count": 9,
   "id": "0f0bf300",
   "metadata": {
    "execution": {
     "iopub.execute_input": "2025-06-08T10:15:28.836313Z",
     "iopub.status.busy": "2025-06-08T10:15:28.835858Z",
     "iopub.status.idle": "2025-06-08T10:15:29.739360Z",
     "shell.execute_reply": "2025-06-08T10:15:29.738332Z"
    },
    "papermill": {
     "duration": 0.913505,
     "end_time": "2025-06-08T10:15:29.740884",
     "exception": false,
     "start_time": "2025-06-08T10:15:28.827379",
     "status": "completed"
    },
    "tags": []
   },
   "outputs": [
    {
     "name": "stdout",
     "output_type": "stream",
     "text": [
      "Found 640 validated image filenames belonging to 2 classes.\n",
      "Found 160 validated image filenames belonging to 2 classes.\n"
     ]
    }
   ],
   "source": [
    "train_data = train_gen.flow_from_dataframe(\n",
    "    train_df,\n",
    "    x_col='filepath',\n",
    "    y_col='label',\n",
    "    target_size=IMG_SIZE,\n",
    "    class_mode='binary',\n",
    "    batch_size=BATCH_SIZE\n",
    ")\n",
    "\n",
    "val_data = val_gen.flow_from_dataframe(\n",
    "    val_df,\n",
    "    x_col='filepath',\n",
    "    y_col='label',\n",
    "    target_size=IMG_SIZE,\n",
    "    class_mode='binary',\n",
    "    batch_size=BATCH_SIZE\n",
    ")"
   ]
  },
  {
   "cell_type": "markdown",
   "id": "b66f0f70",
   "metadata": {
    "papermill": {
     "duration": 0.007665,
     "end_time": "2025-06-08T10:15:29.757159",
     "exception": false,
     "start_time": "2025-06-08T10:15:29.749494",
     "status": "completed"
    },
    "tags": []
   },
   "source": [
    "# CNN Model (Lightweight + Accurate)"
   ]
  },
  {
   "cell_type": "code",
   "execution_count": 10,
   "id": "9f1b9207",
   "metadata": {
    "execution": {
     "iopub.execute_input": "2025-06-08T10:15:29.774890Z",
     "iopub.status.busy": "2025-06-08T10:15:29.774560Z",
     "iopub.status.idle": "2025-06-08T10:15:29.965741Z",
     "shell.execute_reply": "2025-06-08T10:15:29.964882Z"
    },
    "papermill": {
     "duration": 0.201961,
     "end_time": "2025-06-08T10:15:29.967440",
     "exception": false,
     "start_time": "2025-06-08T10:15:29.765479",
     "status": "completed"
    },
    "tags": []
   },
   "outputs": [
    {
     "data": {
      "text/html": [
       "<pre style=\"white-space:pre;overflow-x:auto;line-height:normal;font-family:Menlo,'DejaVu Sans Mono',consolas,'Courier New',monospace\"><span style=\"font-weight: bold\">Model: \"sequential\"</span>\n",
       "</pre>\n"
      ],
      "text/plain": [
       "\u001b[1mModel: \"sequential\"\u001b[0m\n"
      ]
     },
     "metadata": {},
     "output_type": "display_data"
    },
    {
     "data": {
      "text/html": [
       "<pre style=\"white-space:pre;overflow-x:auto;line-height:normal;font-family:Menlo,'DejaVu Sans Mono',consolas,'Courier New',monospace\">┏━━━━━━━━━━━━━━━━━━━━━━━━━━━━━━━━━━━━━━┳━━━━━━━━━━━━━━━━━━━━━━━━━━━━━┳━━━━━━━━━━━━━━━━━┓\n",
       "┃<span style=\"font-weight: bold\"> Layer (type)                         </span>┃<span style=\"font-weight: bold\"> Output Shape                </span>┃<span style=\"font-weight: bold\">         Param # </span>┃\n",
       "┡━━━━━━━━━━━━━━━━━━━━━━━━━━━━━━━━━━━━━━╇━━━━━━━━━━━━━━━━━━━━━━━━━━━━━╇━━━━━━━━━━━━━━━━━┩\n",
       "│ conv2d (<span style=\"color: #0087ff; text-decoration-color: #0087ff\">Conv2D</span>)                      │ (<span style=\"color: #00d7ff; text-decoration-color: #00d7ff\">None</span>, <span style=\"color: #00af00; text-decoration-color: #00af00\">126</span>, <span style=\"color: #00af00; text-decoration-color: #00af00\">126</span>, <span style=\"color: #00af00; text-decoration-color: #00af00\">32</span>)        │             <span style=\"color: #00af00; text-decoration-color: #00af00\">896</span> │\n",
       "├──────────────────────────────────────┼─────────────────────────────┼─────────────────┤\n",
       "│ max_pooling2d (<span style=\"color: #0087ff; text-decoration-color: #0087ff\">MaxPooling2D</span>)         │ (<span style=\"color: #00d7ff; text-decoration-color: #00d7ff\">None</span>, <span style=\"color: #00af00; text-decoration-color: #00af00\">63</span>, <span style=\"color: #00af00; text-decoration-color: #00af00\">63</span>, <span style=\"color: #00af00; text-decoration-color: #00af00\">32</span>)          │               <span style=\"color: #00af00; text-decoration-color: #00af00\">0</span> │\n",
       "├──────────────────────────────────────┼─────────────────────────────┼─────────────────┤\n",
       "│ conv2d_1 (<span style=\"color: #0087ff; text-decoration-color: #0087ff\">Conv2D</span>)                    │ (<span style=\"color: #00d7ff; text-decoration-color: #00d7ff\">None</span>, <span style=\"color: #00af00; text-decoration-color: #00af00\">61</span>, <span style=\"color: #00af00; text-decoration-color: #00af00\">61</span>, <span style=\"color: #00af00; text-decoration-color: #00af00\">64</span>)          │          <span style=\"color: #00af00; text-decoration-color: #00af00\">18,496</span> │\n",
       "├──────────────────────────────────────┼─────────────────────────────┼─────────────────┤\n",
       "│ max_pooling2d_1 (<span style=\"color: #0087ff; text-decoration-color: #0087ff\">MaxPooling2D</span>)       │ (<span style=\"color: #00d7ff; text-decoration-color: #00d7ff\">None</span>, <span style=\"color: #00af00; text-decoration-color: #00af00\">30</span>, <span style=\"color: #00af00; text-decoration-color: #00af00\">30</span>, <span style=\"color: #00af00; text-decoration-color: #00af00\">64</span>)          │               <span style=\"color: #00af00; text-decoration-color: #00af00\">0</span> │\n",
       "├──────────────────────────────────────┼─────────────────────────────┼─────────────────┤\n",
       "│ conv2d_2 (<span style=\"color: #0087ff; text-decoration-color: #0087ff\">Conv2D</span>)                    │ (<span style=\"color: #00d7ff; text-decoration-color: #00d7ff\">None</span>, <span style=\"color: #00af00; text-decoration-color: #00af00\">28</span>, <span style=\"color: #00af00; text-decoration-color: #00af00\">28</span>, <span style=\"color: #00af00; text-decoration-color: #00af00\">128</span>)         │          <span style=\"color: #00af00; text-decoration-color: #00af00\">73,856</span> │\n",
       "├──────────────────────────────────────┼─────────────────────────────┼─────────────────┤\n",
       "│ max_pooling2d_2 (<span style=\"color: #0087ff; text-decoration-color: #0087ff\">MaxPooling2D</span>)       │ (<span style=\"color: #00d7ff; text-decoration-color: #00d7ff\">None</span>, <span style=\"color: #00af00; text-decoration-color: #00af00\">14</span>, <span style=\"color: #00af00; text-decoration-color: #00af00\">14</span>, <span style=\"color: #00af00; text-decoration-color: #00af00\">128</span>)         │               <span style=\"color: #00af00; text-decoration-color: #00af00\">0</span> │\n",
       "├──────────────────────────────────────┼─────────────────────────────┼─────────────────┤\n",
       "│ flatten (<span style=\"color: #0087ff; text-decoration-color: #0087ff\">Flatten</span>)                    │ (<span style=\"color: #00d7ff; text-decoration-color: #00d7ff\">None</span>, <span style=\"color: #00af00; text-decoration-color: #00af00\">25088</span>)               │               <span style=\"color: #00af00; text-decoration-color: #00af00\">0</span> │\n",
       "├──────────────────────────────────────┼─────────────────────────────┼─────────────────┤\n",
       "│ dense (<span style=\"color: #0087ff; text-decoration-color: #0087ff\">Dense</span>)                        │ (<span style=\"color: #00d7ff; text-decoration-color: #00d7ff\">None</span>, <span style=\"color: #00af00; text-decoration-color: #00af00\">128</span>)                 │       <span style=\"color: #00af00; text-decoration-color: #00af00\">3,211,392</span> │\n",
       "├──────────────────────────────────────┼─────────────────────────────┼─────────────────┤\n",
       "│ dropout (<span style=\"color: #0087ff; text-decoration-color: #0087ff\">Dropout</span>)                    │ (<span style=\"color: #00d7ff; text-decoration-color: #00d7ff\">None</span>, <span style=\"color: #00af00; text-decoration-color: #00af00\">128</span>)                 │               <span style=\"color: #00af00; text-decoration-color: #00af00\">0</span> │\n",
       "├──────────────────────────────────────┼─────────────────────────────┼─────────────────┤\n",
       "│ dense_1 (<span style=\"color: #0087ff; text-decoration-color: #0087ff\">Dense</span>)                      │ (<span style=\"color: #00d7ff; text-decoration-color: #00d7ff\">None</span>, <span style=\"color: #00af00; text-decoration-color: #00af00\">1</span>)                   │             <span style=\"color: #00af00; text-decoration-color: #00af00\">129</span> │\n",
       "└──────────────────────────────────────┴─────────────────────────────┴─────────────────┘\n",
       "</pre>\n"
      ],
      "text/plain": [
       "┏━━━━━━━━━━━━━━━━━━━━━━━━━━━━━━━━━━━━━━┳━━━━━━━━━━━━━━━━━━━━━━━━━━━━━┳━━━━━━━━━━━━━━━━━┓\n",
       "┃\u001b[1m \u001b[0m\u001b[1mLayer (type)                        \u001b[0m\u001b[1m \u001b[0m┃\u001b[1m \u001b[0m\u001b[1mOutput Shape               \u001b[0m\u001b[1m \u001b[0m┃\u001b[1m \u001b[0m\u001b[1m        Param #\u001b[0m\u001b[1m \u001b[0m┃\n",
       "┡━━━━━━━━━━━━━━━━━━━━━━━━━━━━━━━━━━━━━━╇━━━━━━━━━━━━━━━━━━━━━━━━━━━━━╇━━━━━━━━━━━━━━━━━┩\n",
       "│ conv2d (\u001b[38;5;33mConv2D\u001b[0m)                      │ (\u001b[38;5;45mNone\u001b[0m, \u001b[38;5;34m126\u001b[0m, \u001b[38;5;34m126\u001b[0m, \u001b[38;5;34m32\u001b[0m)        │             \u001b[38;5;34m896\u001b[0m │\n",
       "├──────────────────────────────────────┼─────────────────────────────┼─────────────────┤\n",
       "│ max_pooling2d (\u001b[38;5;33mMaxPooling2D\u001b[0m)         │ (\u001b[38;5;45mNone\u001b[0m, \u001b[38;5;34m63\u001b[0m, \u001b[38;5;34m63\u001b[0m, \u001b[38;5;34m32\u001b[0m)          │               \u001b[38;5;34m0\u001b[0m │\n",
       "├──────────────────────────────────────┼─────────────────────────────┼─────────────────┤\n",
       "│ conv2d_1 (\u001b[38;5;33mConv2D\u001b[0m)                    │ (\u001b[38;5;45mNone\u001b[0m, \u001b[38;5;34m61\u001b[0m, \u001b[38;5;34m61\u001b[0m, \u001b[38;5;34m64\u001b[0m)          │          \u001b[38;5;34m18,496\u001b[0m │\n",
       "├──────────────────────────────────────┼─────────────────────────────┼─────────────────┤\n",
       "│ max_pooling2d_1 (\u001b[38;5;33mMaxPooling2D\u001b[0m)       │ (\u001b[38;5;45mNone\u001b[0m, \u001b[38;5;34m30\u001b[0m, \u001b[38;5;34m30\u001b[0m, \u001b[38;5;34m64\u001b[0m)          │               \u001b[38;5;34m0\u001b[0m │\n",
       "├──────────────────────────────────────┼─────────────────────────────┼─────────────────┤\n",
       "│ conv2d_2 (\u001b[38;5;33mConv2D\u001b[0m)                    │ (\u001b[38;5;45mNone\u001b[0m, \u001b[38;5;34m28\u001b[0m, \u001b[38;5;34m28\u001b[0m, \u001b[38;5;34m128\u001b[0m)         │          \u001b[38;5;34m73,856\u001b[0m │\n",
       "├──────────────────────────────────────┼─────────────────────────────┼─────────────────┤\n",
       "│ max_pooling2d_2 (\u001b[38;5;33mMaxPooling2D\u001b[0m)       │ (\u001b[38;5;45mNone\u001b[0m, \u001b[38;5;34m14\u001b[0m, \u001b[38;5;34m14\u001b[0m, \u001b[38;5;34m128\u001b[0m)         │               \u001b[38;5;34m0\u001b[0m │\n",
       "├──────────────────────────────────────┼─────────────────────────────┼─────────────────┤\n",
       "│ flatten (\u001b[38;5;33mFlatten\u001b[0m)                    │ (\u001b[38;5;45mNone\u001b[0m, \u001b[38;5;34m25088\u001b[0m)               │               \u001b[38;5;34m0\u001b[0m │\n",
       "├──────────────────────────────────────┼─────────────────────────────┼─────────────────┤\n",
       "│ dense (\u001b[38;5;33mDense\u001b[0m)                        │ (\u001b[38;5;45mNone\u001b[0m, \u001b[38;5;34m128\u001b[0m)                 │       \u001b[38;5;34m3,211,392\u001b[0m │\n",
       "├──────────────────────────────────────┼─────────────────────────────┼─────────────────┤\n",
       "│ dropout (\u001b[38;5;33mDropout\u001b[0m)                    │ (\u001b[38;5;45mNone\u001b[0m, \u001b[38;5;34m128\u001b[0m)                 │               \u001b[38;5;34m0\u001b[0m │\n",
       "├──────────────────────────────────────┼─────────────────────────────┼─────────────────┤\n",
       "│ dense_1 (\u001b[38;5;33mDense\u001b[0m)                      │ (\u001b[38;5;45mNone\u001b[0m, \u001b[38;5;34m1\u001b[0m)                   │             \u001b[38;5;34m129\u001b[0m │\n",
       "└──────────────────────────────────────┴─────────────────────────────┴─────────────────┘\n"
      ]
     },
     "metadata": {},
     "output_type": "display_data"
    },
    {
     "data": {
      "text/html": [
       "<pre style=\"white-space:pre;overflow-x:auto;line-height:normal;font-family:Menlo,'DejaVu Sans Mono',consolas,'Courier New',monospace\"><span style=\"font-weight: bold\"> Total params: </span><span style=\"color: #00af00; text-decoration-color: #00af00\">3,304,769</span> (12.61 MB)\n",
       "</pre>\n"
      ],
      "text/plain": [
       "\u001b[1m Total params: \u001b[0m\u001b[38;5;34m3,304,769\u001b[0m (12.61 MB)\n"
      ]
     },
     "metadata": {},
     "output_type": "display_data"
    },
    {
     "data": {
      "text/html": [
       "<pre style=\"white-space:pre;overflow-x:auto;line-height:normal;font-family:Menlo,'DejaVu Sans Mono',consolas,'Courier New',monospace\"><span style=\"font-weight: bold\"> Trainable params: </span><span style=\"color: #00af00; text-decoration-color: #00af00\">3,304,769</span> (12.61 MB)\n",
       "</pre>\n"
      ],
      "text/plain": [
       "\u001b[1m Trainable params: \u001b[0m\u001b[38;5;34m3,304,769\u001b[0m (12.61 MB)\n"
      ]
     },
     "metadata": {},
     "output_type": "display_data"
    },
    {
     "data": {
      "text/html": [
       "<pre style=\"white-space:pre;overflow-x:auto;line-height:normal;font-family:Menlo,'DejaVu Sans Mono',consolas,'Courier New',monospace\"><span style=\"font-weight: bold\"> Non-trainable params: </span><span style=\"color: #00af00; text-decoration-color: #00af00\">0</span> (0.00 B)\n",
       "</pre>\n"
      ],
      "text/plain": [
       "\u001b[1m Non-trainable params: \u001b[0m\u001b[38;5;34m0\u001b[0m (0.00 B)\n"
      ]
     },
     "metadata": {},
     "output_type": "display_data"
    }
   ],
   "source": [
    "from tensorflow.keras import layers, models\n",
    "\n",
    "model = models.Sequential([\n",
    "    layers.Input(shape=(128, 128, 3)),\n",
    "    \n",
    "    layers.Conv2D(32, (3, 3), activation='relu'),\n",
    "    layers.MaxPooling2D(2, 2),\n",
    "    \n",
    "    layers.Conv2D(64, (3, 3), activation='relu'),\n",
    "    layers.MaxPooling2D(2, 2),\n",
    "    \n",
    "    layers.Conv2D(128, (3, 3), activation='relu'),\n",
    "    layers.MaxPooling2D(2, 2),\n",
    "    \n",
    "    layers.Flatten(),\n",
    "    layers.Dense(128, activation='relu'),\n",
    "    layers.Dropout(0.3),\n",
    "    layers.Dense(1, activation='sigmoid')\n",
    "])\n",
    "\n",
    "model.compile(optimizer='adam', loss='binary_crossentropy', metrics=['accuracy'])\n",
    "model.summary()\n"
   ]
  },
  {
   "cell_type": "markdown",
   "id": "b63b1339",
   "metadata": {
    "papermill": {
     "duration": 0.008495,
     "end_time": "2025-06-08T10:15:29.984915",
     "exception": false,
     "start_time": "2025-06-08T10:15:29.976420",
     "status": "completed"
    },
    "tags": []
   },
   "source": [
    "# Training the MODEL"
   ]
  },
  {
   "cell_type": "code",
   "execution_count": 11,
   "id": "2e4d9661",
   "metadata": {
    "execution": {
     "iopub.execute_input": "2025-06-08T10:15:30.004403Z",
     "iopub.status.busy": "2025-06-08T10:15:30.004049Z",
     "iopub.status.idle": "2025-06-08T10:18:10.656527Z",
     "shell.execute_reply": "2025-06-08T10:18:10.655576Z"
    },
    "papermill": {
     "duration": 160.664551,
     "end_time": "2025-06-08T10:18:10.658246",
     "exception": false,
     "start_time": "2025-06-08T10:15:29.993695",
     "status": "completed"
    },
    "tags": []
   },
   "outputs": [
    {
     "name": "stderr",
     "output_type": "stream",
     "text": [
      "/usr/local/lib/python3.11/dist-packages/keras/src/trainers/data_adapters/py_dataset_adapter.py:121: UserWarning: Your `PyDataset` class should call `super().__init__(**kwargs)` in its constructor. `**kwargs` can include `workers`, `use_multiprocessing`, `max_queue_size`. Do not pass these arguments to `fit()`, as they will be ignored.\n",
      "  self._warn_if_super_not_called()\n"
     ]
    },
    {
     "name": "stdout",
     "output_type": "stream",
     "text": [
      "Epoch 1/10\n",
      "\u001b[1m20/20\u001b[0m \u001b[32m━━━━━━━━━━━━━━━━━━━━\u001b[0m\u001b[37m\u001b[0m \u001b[1m20s\u001b[0m 839ms/step - accuracy: 0.5254 - loss: 0.7759 - val_accuracy: 0.5312 - val_loss: 0.6737\n",
      "Epoch 2/10\n",
      "\u001b[1m20/20\u001b[0m \u001b[32m━━━━━━━━━━━━━━━━━━━━\u001b[0m\u001b[37m\u001b[0m \u001b[1m15s\u001b[0m 722ms/step - accuracy: 0.6108 - loss: 0.6579 - val_accuracy: 0.6812 - val_loss: 0.5784\n",
      "Epoch 3/10\n",
      "\u001b[1m20/20\u001b[0m \u001b[32m━━━━━━━━━━━━━━━━━━━━\u001b[0m\u001b[37m\u001b[0m \u001b[1m13s\u001b[0m 647ms/step - accuracy: 0.6938 - loss: 0.6040 - val_accuracy: 0.7437 - val_loss: 0.5470\n",
      "Epoch 4/10\n",
      "\u001b[1m20/20\u001b[0m \u001b[32m━━━━━━━━━━━━━━━━━━━━\u001b[0m\u001b[37m\u001b[0m \u001b[1m14s\u001b[0m 684ms/step - accuracy: 0.7360 - loss: 0.5605 - val_accuracy: 0.6250 - val_loss: 0.6707\n",
      "Epoch 5/10\n",
      "\u001b[1m20/20\u001b[0m \u001b[32m━━━━━━━━━━━━━━━━━━━━\u001b[0m\u001b[37m\u001b[0m \u001b[1m20s\u001b[0m 653ms/step - accuracy: 0.6796 - loss: 0.5884 - val_accuracy: 0.7000 - val_loss: 0.6022\n",
      "Epoch 6/10\n",
      "\u001b[1m20/20\u001b[0m \u001b[32m━━━━━━━━━━━━━━━━━━━━\u001b[0m\u001b[37m\u001b[0m \u001b[1m14s\u001b[0m 679ms/step - accuracy: 0.7355 - loss: 0.5759 - val_accuracy: 0.7563 - val_loss: 0.5105\n",
      "Epoch 7/10\n",
      "\u001b[1m20/20\u001b[0m \u001b[32m━━━━━━━━━━━━━━━━━━━━\u001b[0m\u001b[37m\u001b[0m \u001b[1m20s\u001b[0m 658ms/step - accuracy: 0.7337 - loss: 0.5390 - val_accuracy: 0.6000 - val_loss: 0.6513\n",
      "Epoch 8/10\n",
      "\u001b[1m20/20\u001b[0m \u001b[32m━━━━━━━━━━━━━━━━━━━━\u001b[0m\u001b[37m\u001b[0m \u001b[1m16s\u001b[0m 759ms/step - accuracy: 0.6823 - loss: 0.6402 - val_accuracy: 0.7000 - val_loss: 0.5808\n",
      "Epoch 9/10\n",
      "\u001b[1m20/20\u001b[0m \u001b[32m━━━━━━━━━━━━━━━━━━━━\u001b[0m\u001b[37m\u001b[0m \u001b[1m14s\u001b[0m 699ms/step - accuracy: 0.7008 - loss: 0.5807 - val_accuracy: 0.7375 - val_loss: 0.5378\n",
      "Epoch 10/10\n",
      "\u001b[1m20/20\u001b[0m \u001b[32m━━━━━━━━━━━━━━━━━━━━\u001b[0m\u001b[37m\u001b[0m \u001b[1m14s\u001b[0m 702ms/step - accuracy: 0.7446 - loss: 0.4934 - val_accuracy: 0.7563 - val_loss: 0.4563\n"
     ]
    }
   ],
   "source": [
    "history = model.fit(\n",
    "    train_data,\n",
    "    validation_data=val_data,\n",
    "    epochs=10,\n",
    "    verbose=1\n",
    ")\n"
   ]
  },
  {
   "cell_type": "markdown",
   "id": "ca0bce6d",
   "metadata": {
    "papermill": {
     "duration": 0.019025,
     "end_time": "2025-06-08T10:18:10.696923",
     "exception": false,
     "start_time": "2025-06-08T10:18:10.677898",
     "status": "completed"
    },
    "tags": []
   },
   "source": [
    "# Accuracy and loss plot"
   ]
  },
  {
   "cell_type": "code",
   "execution_count": 12,
   "id": "21b83526",
   "metadata": {
    "execution": {
     "iopub.execute_input": "2025-06-08T10:18:10.737300Z",
     "iopub.status.busy": "2025-06-08T10:18:10.736963Z",
     "iopub.status.idle": "2025-06-08T10:18:10.921555Z",
     "shell.execute_reply": "2025-06-08T10:18:10.920461Z"
    },
    "papermill": {
     "duration": 0.206841,
     "end_time": "2025-06-08T10:18:10.923297",
     "exception": false,
     "start_time": "2025-06-08T10:18:10.716456",
     "status": "completed"
    },
    "tags": []
   },
   "outputs": [
    {
     "data": {
      "image/png": "[encoded data removed]",
      "text/plain": [
       "<Figure size 640x480 with 1 Axes>"
      ]
     },
     "metadata": {},
     "output_type": "display_data"
    }
   ],
   "source": [
    "plt.plot(history.history['accuracy'], label='Train Acc')\n",
    "plt.plot(history.history['val_accuracy'], label='Val Acc')\n",
    "plt.title(\"Model Accuracy\")\n",
    "plt.xlabel(\"Epoch\")\n",
    "plt.ylabel(\"Accuracy\")\n",
    "plt.legend()\n",
    "plt.show()\n"
   ]
  },
  {
   "cell_type": "markdown",
   "id": "627e3787",
   "metadata": {
    "papermill": {
     "duration": 0.093971,
     "end_time": "2025-06-08T10:18:11.037868",
     "exception": false,
     "start_time": "2025-06-08T10:18:10.943897",
     "status": "completed"
    },
    "tags": []
   },
   "source": [
    "# Prepare submission"
   ]
  },
  {
   "cell_type": "markdown",
   "id": "982b36b5",
   "metadata": {
    "papermill": {
     "duration": 0.02013,
     "end_time": "2025-06-08T10:18:11.079094",
     "exception": false,
     "start_time": "2025-06-08T10:18:11.058964",
     "status": "completed"
    },
    "tags": []
   },
   "source": [
    "Load test image paths"
   ]
  },
  {
   "cell_type": "code",
   "execution_count": 13,
   "id": "6c9e3a59",
   "metadata": {
    "execution": {
     "iopub.execute_input": "2025-06-08T10:18:11.121477Z",
     "iopub.status.busy": "2025-06-08T10:18:11.121125Z",
     "iopub.status.idle": "2025-06-08T10:18:11.126572Z",
     "shell.execute_reply": "2025-06-08T10:18:11.125494Z"
    },
    "papermill": {
     "duration": 0.029162,
     "end_time": "2025-06-08T10:18:11.128592",
     "exception": false,
     "start_time": "2025-06-08T10:18:11.099430",
     "status": "completed"
    },
    "tags": []
   },
   "outputs": [],
   "source": [
    "test_dir = \"/kaggle/input/heads-or-tails-image-classification/test\"\n",
    "test_files = [os.path.join(test_dir, fname) for fname in os.listdir(test_dir)]"
   ]
  },
  {
   "cell_type": "markdown",
   "id": "a56ba272",
   "metadata": {
    "papermill": {
     "duration": 0.020514,
     "end_time": "2025-06-08T10:18:11.170611",
     "exception": false,
     "start_time": "2025-06-08T10:18:11.150097",
     "status": "completed"
    },
    "tags": []
   },
   "source": [
    "Create DataFrame"
   ]
  },
  {
   "cell_type": "code",
   "execution_count": 14,
   "id": "3797e78d",
   "metadata": {
    "execution": {
     "iopub.execute_input": "2025-06-08T10:18:11.214345Z",
     "iopub.status.busy": "2025-06-08T10:18:11.214020Z",
     "iopub.status.idle": "2025-06-08T10:18:11.219367Z",
     "shell.execute_reply": "2025-06-08T10:18:11.218398Z"
    },
    "papermill": {
     "duration": 0.029294,
     "end_time": "2025-06-08T10:18:11.220864",
     "exception": false,
     "start_time": "2025-06-08T10:18:11.191570",
     "status": "completed"
    },
    "tags": []
   },
   "outputs": [],
   "source": [
    "test_df = pd.DataFrame(test_files, columns=[\"filepath\"])\n"
   ]
  },
  {
   "cell_type": "markdown",
   "id": "e16048df",
   "metadata": {
    "papermill": {
     "duration": 0.020077,
     "end_time": "2025-06-08T10:18:11.262149",
     "exception": false,
     "start_time": "2025-06-08T10:18:11.242072",
     "status": "completed"
    },
    "tags": []
   },
   "source": [
    "Test generator"
   ]
  },
  {
   "cell_type": "code",
   "execution_count": 15,
   "id": "5327a665",
   "metadata": {
    "execution": {
     "iopub.execute_input": "2025-06-08T10:18:11.304681Z",
     "iopub.status.busy": "2025-06-08T10:18:11.303972Z",
     "iopub.status.idle": "2025-06-08T10:18:11.688475Z",
     "shell.execute_reply": "2025-06-08T10:18:11.687373Z"
    },
    "papermill": {
     "duration": 0.407826,
     "end_time": "2025-06-08T10:18:11.690261",
     "exception": false,
     "start_time": "2025-06-08T10:18:11.282435",
     "status": "completed"
    },
    "tags": []
   },
   "outputs": [
    {
     "name": "stdout",
     "output_type": "stream",
     "text": [
      "Found 200 validated image filenames.\n"
     ]
    }
   ],
   "source": [
    "test_gen = ImageDataGenerator(rescale=1./255)\n",
    "test_data = test_gen.flow_from_dataframe(\n",
    "    test_df,\n",
    "    x_col='filepath',\n",
    "    y_col=None,\n",
    "    class_mode=None,\n",
    "    target_size=IMG_SIZE,\n",
    "    batch_size=1,\n",
    "    shuffle=False\n",
    ")"
   ]
  },
  {
   "cell_type": "markdown",
   "id": "08cc9a99",
   "metadata": {
    "papermill": {
     "duration": 0.020493,
     "end_time": "2025-06-08T10:18:11.732738",
     "exception": false,
     "start_time": "2025-06-08T10:18:11.712245",
     "status": "completed"
    },
    "tags": []
   },
   "source": [
    "Predictions"
   ]
  },
  {
   "cell_type": "code",
   "execution_count": 16,
   "id": "c0c2dbfb",
   "metadata": {
    "execution": {
     "iopub.execute_input": "2025-06-08T10:18:11.776128Z",
     "iopub.status.busy": "2025-06-08T10:18:11.775675Z",
     "iopub.status.idle": "2025-06-08T10:18:14.762650Z",
     "shell.execute_reply": "2025-06-08T10:18:14.761670Z"
    },
    "papermill": {
     "duration": 3.010814,
     "end_time": "2025-06-08T10:18:14.764527",
     "exception": false,
     "start_time": "2025-06-08T10:18:11.753713",
     "status": "completed"
    },
    "tags": []
   },
   "outputs": [
    {
     "name": "stdout",
     "output_type": "stream",
     "text": [
      "\u001b[1m200/200\u001b[0m \u001b[32m━━━━━━━━━━━━━━━━━━━━\u001b[0m\u001b[37m\u001b[0m \u001b[1m3s\u001b[0m 14ms/step\n"
     ]
    }
   ],
   "source": [
    "preds = model.predict(test_data)\n",
    "labels = ['heads' if p < 0.5 else 'tails' for p in preds]"
   ]
  },
  {
   "cell_type": "markdown",
   "id": "60436fe6",
   "metadata": {
    "papermill": {
     "duration": 0.022589,
     "end_time": "2025-06-08T10:18:14.810411",
     "exception": false,
     "start_time": "2025-06-08T10:18:14.787822",
     "status": "completed"
    },
    "tags": []
   },
   "source": [
    "Assigning the predictions"
   ]
  },
  {
   "cell_type": "code",
   "execution_count": 17,
   "id": "9b25e17c",
   "metadata": {
    "execution": {
     "iopub.execute_input": "2025-06-08T10:18:14.858350Z",
     "iopub.status.busy": "2025-06-08T10:18:14.857536Z",
     "iopub.status.idle": "2025-06-08T10:18:14.888251Z",
     "shell.execute_reply": "2025-06-08T10:18:14.887222Z"
    },
    "papermill": {
     "duration": 0.056563,
     "end_time": "2025-06-08T10:18:14.890087",
     "exception": false,
     "start_time": "2025-06-08T10:18:14.833524",
     "status": "completed"
    },
    "tags": []
   },
   "outputs": [],
   "source": [
    "import pandas as pd\n",
    "\n",
    "# Load the sample submission file\n",
    "submission_df = pd.read_csv('/kaggle/input/heads-or-tails-image-classification/sample_submission.csv')\n",
    "\n",
    "# Now this line will work\n",
    "submission_df.loc[:, 'probability_of_heads'] = preds.flatten()\n",
    "\n",
    "# Save the final submission file\n",
    "submission_df.to_csv('submission.csv', index=False)\n"
   ]
  },
  {
   "cell_type": "markdown",
   "id": "4d937108",
   "metadata": {
    "papermill": {
     "duration": 0.022198,
     "end_time": "2025-06-08T10:18:14.935766",
     "exception": false,
     "start_time": "2025-06-08T10:18:14.913568",
     "status": "completed"
    },
    "tags": []
   },
   "source": [
    "Checking if the the final sub has only two columns"
   ]
  },
  {
   "cell_type": "code",
   "execution_count": 18,
   "id": "0763a9a5",
   "metadata": {
    "execution": {
     "iopub.execute_input": "2025-06-08T10:18:14.982359Z",
     "iopub.status.busy": "2025-06-08T10:18:14.982026Z",
     "iopub.status.idle": "2025-06-08T10:18:14.991467Z",
     "shell.execute_reply": "2025-06-08T10:18:14.990412Z"
    },
    "papermill": {
     "duration": 0.034843,
     "end_time": "2025-06-08T10:18:14.993258",
     "exception": false,
     "start_time": "2025-06-08T10:18:14.958415",
     "status": "completed"
    },
    "tags": []
   },
   "outputs": [
    {
     "data": {
      "text/html": [
       "<div>\n",
       "<style scoped>\n",
       "    .dataframe tbody tr th:only-of-type {\n",
       "        vertical-align: middle;\n",
       "    }\n",
       "\n",
       "    .dataframe tbody tr th {\n",
       "        vertical-align: top;\n",
       "    }\n",
       "\n",
       "    .dataframe thead th {\n",
       "        text-align: right;\n",
       "    }\n",
       "</style>\n",
       "<table border=\"1\" class=\"dataframe\">\n",
       "  <thead>\n",
       "    <tr style=\"text-align: right;\">\n",
       "      <th></th>\n",
       "      <th>prediction_id</th>\n",
       "      <th>probability_of_heads</th>\n",
       "    </tr>\n",
       "  </thead>\n",
       "  <tbody>\n",
       "    <tr>\n",
       "      <th>0</th>\n",
       "      <td>1</td>\n",
       "      <td>0.088852</td>\n",
       "    </tr>\n",
       "    <tr>\n",
       "      <th>1</th>\n",
       "      <td>2</td>\n",
       "      <td>0.531576</td>\n",
       "    </tr>\n",
       "    <tr>\n",
       "      <th>2</th>\n",
       "      <td>3</td>\n",
       "      <td>0.160434</td>\n",
       "    </tr>\n",
       "    <tr>\n",
       "      <th>3</th>\n",
       "      <td>4</td>\n",
       "      <td>0.099639</td>\n",
       "    </tr>\n",
       "    <tr>\n",
       "      <th>4</th>\n",
       "      <td>5</td>\n",
       "      <td>0.075511</td>\n",
       "    </tr>\n",
       "  </tbody>\n",
       "</table>\n",
       "</div>"
      ],
      "text/plain": [
       "   prediction_id  probability_of_heads\n",
       "0              1              0.088852\n",
       "1              2              0.531576\n",
       "2              3              0.160434\n",
       "3              4              0.099639\n",
       "4              5              0.075511"
      ]
     },
     "execution_count": 18,
     "metadata": {},
     "output_type": "execute_result"
    }
   ],
   "source": [
    "submission_df.head()"
   ]
  },
  {
   "cell_type": "markdown",
   "id": "7aaf7eb2",
   "metadata": {
    "papermill": {
     "duration": 0.023244,
     "end_time": "2025-06-08T10:18:15.039949",
     "exception": false,
     "start_time": "2025-06-08T10:18:15.016705",
     "status": "completed"
    },
    "tags": []
   },
   "source": [
    "The submission file matches with the sample file."
   ]
  },
  {
   "cell_type": "code",
   "execution_count": null,
   "id": "9185701c",
   "metadata": {
    "papermill": {
     "duration": 0.023279,
     "end_time": "2025-06-08T10:18:15.086039",
     "exception": false,
     "start_time": "2025-06-08T10:18:15.062760",
     "status": "completed"
    },
    "tags": []
   },
   "outputs": [],
   "source": []
  }
 ],
 "metadata": {
  "kaggle": {
   "accelerator": "none",
   "dataSources": [
    {
     "databundleVersionId": 12597005,
     "sourceId": 103328,
     "sourceType": "competition"
    }
   ],
   "dockerImageVersionId": 31040,
   "isGpuEnabled": false,
   "isInternetEnabled": true,
   "language": "python",
   "sourceType": "notebook"
  },
  "kernelspec": {
   "display_name": "Python 3",
   "language": "python",
   "name": "python3"
  },
  "language_info": {
   "codemirror_mode": {
    "name": "ipython",
    "version": 3
   },
   "file_extension": ".py",
   "mimetype": "text/x-python",
   "name": "python",
   "nbconvert_exporter": "python",
   "pygments_lexer": "ipython3",
   "version": "3.11.11"
  },
  "papermill": {
   "default_parameters": {},
   "duration": 201.498883,
   "end_time": "2025-06-08T10:18:18.041617",
   "environment_variables": {},
   "exception": null,
   "input_path": "__notebook__.ipynb",
   "output_path": "__notebook__.ipynb",
   "parameters": {},
   "start_time": "2025-06-08T10:14:56.542734",
   "version": "2.6.0"
  }
 },
 "nbformat": 4,
 "nbformat_minor": 5
}
