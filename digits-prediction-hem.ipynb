{
 "cells": [
  {
   "cell_type": "code",
   "execution_count": 1,
   "id": "7729ed4f",
   "metadata": {
    "_execution_state": "idle",
    "_uuid": "051d70d956493feee0c6d64651c6a088724dca2a",
    "execution": {
     "iopub.execute_input": "2025-06-04T05:57:26.309577Z",
     "iopub.status.busy": "2025-06-04T05:57:26.307039Z",
     "iopub.status.idle": "2025-06-04T05:57:27.725644Z",
     "shell.execute_reply": "2025-06-04T05:57:27.723761Z"
    },
    "papermill": {
     "duration": 1.428832,
     "end_time": "2025-06-04T05:57:27.729000",
     "exception": false,
     "start_time": "2025-06-04T05:57:26.300168",
     "status": "completed"
    },
    "tags": []
   },
   "outputs": [
    {
     "name": "stderr",
     "output_type": "stream",
     "text": [
      "── \u001b[1mAttaching core tidyverse packages\u001b[22m ──────────────────────── tidyverse 2.0.0 ──\n",
      "\u001b[32m✔\u001b[39m \u001b[34mdplyr    \u001b[39m 1.1.4     \u001b[32m✔\u001b[39m \u001b[34mreadr    \u001b[39m 2.1.5\n",
      "\u001b[32m✔\u001b[39m \u001b[34mforcats  \u001b[39m 1.0.0     \u001b[32m✔\u001b[39m \u001b[34mstringr  \u001b[39m 1.5.1\n",
      "\u001b[32m✔\u001b[39m \u001b[34mggplot2  \u001b[39m 3.5.1     \u001b[32m✔\u001b[39m \u001b[34mtibble   \u001b[39m 3.2.1\n",
      "\u001b[32m✔\u001b[39m \u001b[34mlubridate\u001b[39m 1.9.3     \u001b[32m✔\u001b[39m \u001b[34mtidyr    \u001b[39m 1.3.1\n",
      "\u001b[32m✔\u001b[39m \u001b[34mpurrr    \u001b[39m 1.0.2     \n"
     ]
    },
    {
     "name": "stderr",
     "output_type": "stream",
     "text": [
      "── \u001b[1mConflicts\u001b[22m ────────────────────────────────────────── tidyverse_conflicts() ──\n",
      "\u001b[31m✖\u001b[39m \u001b[34mdplyr\u001b[39m::\u001b[32mfilter()\u001b[39m masks \u001b[34mstats\u001b[39m::filter()\n",
      "\u001b[31m✖\u001b[39m \u001b[34mdplyr\u001b[39m::\u001b[32mlag()\u001b[39m    masks \u001b[34mstats\u001b[39m::lag()\n",
      "\u001b[36mℹ\u001b[39m Use the conflicted package (\u001b[3m\u001b[34m<http://conflicted.r-lib.org/>\u001b[39m\u001b[23m) to force all conflicts to become errors\n"
     ]
    },
    {
     "data": {
      "text/html": [
       "'digit-recognizer'"
      ],
      "text/latex": [
       "'digit-recognizer'"
      ],
      "text/markdown": [
       "'digit-recognizer'"
      ],
      "text/plain": [
       "[1] \"digit-recognizer\""
      ]
     },
     "metadata": {},
     "output_type": "display_data"
    }
   ],
   "source": [
    "# This R environment comes with many helpful analytics packages installed\n",
    "# It is defined by the kaggle/rstats Docker image: https://github.com/kaggle/docker-rstats\n",
    "# For example, here's a helpful package to load\n",
    "\n",
    "library(tidyverse) # metapackage of all tidyverse packages\n",
    "\n",
    "# Input data files are available in the read-only \"../input/\" directory\n",
    "# For example, running this (by clicking run or pressing Shift+Enter) will list all files under the input directory\n",
    "\n",
    "list.files(path = \"../input\")\n",
    "\n",
    "# You can write up to 20GB to the current directory (/kaggle/working/) that gets preserved as output when you create a version using \"Save & Run All\" \n",
    "# You can also write temporary files to /kaggle/temp/, but they won't be saved outside of the current session"
   ]
  },
  {
   "cell_type": "markdown",
   "id": "2f6f3feb",
   "metadata": {
    "papermill": {
     "duration": 0.003566,
     "end_time": "2025-06-04T05:57:27.736564",
     "exception": false,
     "start_time": "2025-06-04T05:57:27.732998",
     "status": "completed"
    },
    "tags": []
   },
   "source": [
    "loading and preprocessing the data"
   ]
  },
  {
   "cell_type": "code",
   "execution_count": 2,
   "id": "3b8084f0",
   "metadata": {
    "execution": {
     "iopub.execute_input": "2025-06-04T05:57:27.776942Z",
     "iopub.status.busy": "2025-06-04T05:57:27.745868Z",
     "iopub.status.idle": "2025-06-04T05:57:40.313586Z",
     "shell.execute_reply": "2025-06-04T05:57:40.311434Z"
    },
    "papermill": {
     "duration": 12.576611,
     "end_time": "2025-06-04T05:57:40.316745",
     "exception": false,
     "start_time": "2025-06-04T05:57:27.740134",
     "status": "completed"
    },
    "tags": []
   },
   "outputs": [
    {
     "name": "stderr",
     "output_type": "stream",
     "text": [
      "\u001b[1mRows: \u001b[22m\u001b[34m42000\u001b[39m \u001b[1mColumns: \u001b[22m\u001b[34m785\u001b[39m\n"
     ]
    },
    {
     "name": "stderr",
     "output_type": "stream",
     "text": [
      "\u001b[36m──\u001b[39m \u001b[1mColumn specification\u001b[22m \u001b[36m────────────────────────────────────────────────────────\u001b[39m\n",
      "\u001b[1mDelimiter:\u001b[22m \",\"\n",
      "\u001b[32mdbl\u001b[39m (785): label, pixel0, pixel1, pixel2, pixel3, pixel4, pixel5, pixel6, pi...\n"
     ]
    },
    {
     "name": "stderr",
     "output_type": "stream",
     "text": [
      "\n",
      "\u001b[36mℹ\u001b[39m Use `spec()` to retrieve the full column specification for this data.\n",
      "\u001b[36mℹ\u001b[39m Specify the column types or set `show_col_types = FALSE` to quiet this message.\n"
     ]
    },
    {
     "name": "stderr",
     "output_type": "stream",
     "text": [
      "\u001b[1mRows: \u001b[22m\u001b[34m28000\u001b[39m \u001b[1mColumns: \u001b[22m\u001b[34m784\u001b[39m\n"
     ]
    },
    {
     "name": "stderr",
     "output_type": "stream",
     "text": [
      "\u001b[36m──\u001b[39m \u001b[1mColumn specification\u001b[22m \u001b[36m────────────────────────────────────────────────────────\u001b[39m\n",
      "\u001b[1mDelimiter:\u001b[22m \",\"\n",
      "\u001b[32mdbl\u001b[39m (784): pixel0, pixel1, pixel2, pixel3, pixel4, pixel5, pixel6, pixel7, p...\n"
     ]
    },
    {
     "name": "stderr",
     "output_type": "stream",
     "text": [
      "\n",
      "\u001b[36mℹ\u001b[39m Use `spec()` to retrieve the full column specification for this data.\n",
      "\u001b[36mℹ\u001b[39m Specify the column types or set `show_col_types = FALSE` to quiet this message.\n"
     ]
    }
   ],
   "source": [
    "library(keras)\n",
    "library(readr)\n",
    "\n",
    "train <- read_csv(\"/kaggle/input/digit-recognizer/train.csv\")\n",
    "test  <- read_csv(\"/kaggle/input/digit-recognizer/test.csv\")"
   ]
  },
  {
   "cell_type": "code",
   "execution_count": 3,
   "id": "28585f03",
   "metadata": {
    "execution": {
     "iopub.execute_input": "2025-06-04T05:57:40.329440Z",
     "iopub.status.busy": "2025-06-04T05:57:40.327348Z",
     "iopub.status.idle": "2025-06-04T05:57:54.016429Z",
     "shell.execute_reply": "2025-06-04T05:57:54.014557Z"
    },
    "papermill": {
     "duration": 13.697835,
     "end_time": "2025-06-04T05:57:54.019040",
     "exception": false,
     "start_time": "2025-06-04T05:57:40.321205",
     "status": "completed"
    },
    "tags": []
   },
   "outputs": [],
   "source": [
    "# Normalize and reshape\n",
    "X <- as.matrix(train[, -1]) / 255\n",
    "y <- to_categorical(train$label, num_classes = 10)\n"
   ]
  },
  {
   "cell_type": "code",
   "execution_count": 4,
   "id": "724ef60f",
   "metadata": {
    "execution": {
     "iopub.execute_input": "2025-06-04T05:57:54.031874Z",
     "iopub.status.busy": "2025-06-04T05:57:54.030133Z",
     "iopub.status.idle": "2025-06-04T05:57:55.736389Z",
     "shell.execute_reply": "2025-06-04T05:57:55.734473Z"
    },
    "papermill": {
     "duration": 1.715389,
     "end_time": "2025-06-04T05:57:55.738936",
     "exception": false,
     "start_time": "2025-06-04T05:57:54.023547",
     "status": "completed"
    },
    "tags": []
   },
   "outputs": [],
   "source": [
    "# Convert to list of 28x28x1 arrays\n",
    "X_list <- lapply(1:nrow(X), function(i) array(X[i, ], dim = c(28, 28, 1)))\n"
   ]
  },
  {
   "cell_type": "markdown",
   "id": "549d6c5a",
   "metadata": {
    "papermill": {
     "duration": 0.004138,
     "end_time": "2025-06-04T05:57:55.747290",
     "exception": false,
     "start_time": "2025-06-04T05:57:55.743152",
     "status": "completed"
    },
    "tags": []
   },
   "source": [
    "Splitting"
   ]
  },
  {
   "cell_type": "code",
   "execution_count": 5,
   "id": "6cbb4f09",
   "metadata": {
    "execution": {
     "iopub.execute_input": "2025-06-04T05:57:55.759181Z",
     "iopub.status.busy": "2025-06-04T05:57:55.757601Z",
     "iopub.status.idle": "2025-06-04T05:58:05.082289Z",
     "shell.execute_reply": "2025-06-04T05:58:05.080384Z"
    },
    "papermill": {
     "duration": 9.333466,
     "end_time": "2025-06-04T05:58:05.084913",
     "exception": false,
     "start_time": "2025-06-04T05:57:55.751447",
     "status": "completed"
    },
    "tags": []
   },
   "outputs": [],
   "source": [
    "# Split\n",
    "set.seed(123)\n",
    "indices <- sample(1:length(X_list), size = 0.9 * length(X_list))\n",
    "library(abind)\n",
    "\n",
    "X_train <- abind(X_list[indices], along = 0)\n",
    "X_val   <- abind(X_list[-indices], along = 0)\n",
    "y_train <- y[indices, ]\n",
    "y_val   <- y[-indices, ]"
   ]
  },
  {
   "cell_type": "markdown",
   "id": "07a2535f",
   "metadata": {
    "papermill": {
     "duration": 0.004095,
     "end_time": "2025-06-04T05:58:05.093264",
     "exception": false,
     "start_time": "2025-06-04T05:58:05.089169",
     "status": "completed"
    },
    "tags": []
   },
   "source": [
    "Create an Enhanced CNN Model"
   ]
  },
  {
   "cell_type": "code",
   "execution_count": 6,
   "id": "4d0eeb2a",
   "metadata": {
    "execution": {
     "iopub.execute_input": "2025-06-04T05:58:05.104963Z",
     "iopub.status.busy": "2025-06-04T05:58:05.103345Z",
     "iopub.status.idle": "2025-06-04T05:58:05.434319Z",
     "shell.execute_reply": "2025-06-04T05:58:05.432481Z"
    },
    "papermill": {
     "duration": 0.339422,
     "end_time": "2025-06-04T05:58:05.436707",
     "exception": false,
     "start_time": "2025-06-04T05:58:05.097285",
     "status": "completed"
    },
    "tags": []
   },
   "outputs": [],
   "source": [
    "model <- keras_model_sequential() %>%\n",
    "  layer_conv_2d(32, kernel_size = c(3,3), activation = \"relu\", input_shape = c(28,28,1)) %>%\n",
    "  layer_batch_normalization() %>%\n",
    "  layer_conv_2d(32, kernel_size = c(3,3), activation = \"relu\") %>%\n",
    "  layer_max_pooling_2d(pool_size = c(2,2)) %>%\n",
    "  layer_dropout(0.25) %>%\n",
    "\n",
    "  layer_conv_2d(64, kernel_size = c(3,3), activation = \"relu\") %>%\n",
    "  layer_batch_normalization() %>%\n",
    "  layer_conv_2d(64, kernel_size = c(3,3), activation = \"relu\") %>%\n",
    "  layer_max_pooling_2d(pool_size = c(2,2)) %>%\n",
    "  layer_dropout(0.25) %>%\n",
    "\n",
    "  layer_flatten() %>%\n",
    "  layer_dense(256, activation = \"relu\") %>%\n",
    "  layer_dropout(0.5) %>%\n",
    "  layer_dense(10, activation = \"softmax\")\n"
   ]
  },
  {
   "cell_type": "markdown",
   "id": "97c38932",
   "metadata": {
    "papermill": {
     "duration": 0.004031,
     "end_time": "2025-06-04T05:58:05.444832",
     "exception": false,
     "start_time": "2025-06-04T05:58:05.440801",
     "status": "completed"
    },
    "tags": []
   },
   "source": [
    "Compile with Learning Rate Adjustment"
   ]
  },
  {
   "cell_type": "code",
   "execution_count": 7,
   "id": "8a9c99aa",
   "metadata": {
    "execution": {
     "iopub.execute_input": "2025-06-04T05:58:05.456473Z",
     "iopub.status.busy": "2025-06-04T05:58:05.454896Z",
     "iopub.status.idle": "2025-06-04T05:58:05.486964Z",
     "shell.execute_reply": "2025-06-04T05:58:05.485092Z"
    },
    "papermill": {
     "duration": 0.040699,
     "end_time": "2025-06-04T05:58:05.489554",
     "exception": false,
     "start_time": "2025-06-04T05:58:05.448855",
     "status": "completed"
    },
    "tags": []
   },
   "outputs": [],
   "source": [
    "model %>% compile(\n",
    "  loss = \"categorical_crossentropy\",\n",
    "  optimizer = optimizer_adam(learning_rate = 0.001),\n",
    "  metrics = \"accuracy\"\n",
    ")\n"
   ]
  },
  {
   "cell_type": "markdown",
   "id": "d05333a5",
   "metadata": {
    "papermill": {
     "duration": 0.004522,
     "end_time": "2025-06-04T05:58:05.499554",
     "exception": false,
     "start_time": "2025-06-04T05:58:05.495032",
     "status": "completed"
    },
    "tags": []
   },
   "source": [
    "Add Early Stopping & Train"
   ]
  },
  {
   "cell_type": "code",
   "execution_count": 8,
   "id": "f5cf7f01",
   "metadata": {
    "execution": {
     "iopub.execute_input": "2025-06-04T05:58:05.511664Z",
     "iopub.status.busy": "2025-06-04T05:58:05.510012Z",
     "iopub.status.idle": "2025-06-04T06:08:41.847123Z",
     "shell.execute_reply": "2025-06-04T06:08:41.844747Z"
    },
    "papermill": {
     "duration": 636.34706,
     "end_time": "2025-06-04T06:08:41.850862",
     "exception": false,
     "start_time": "2025-06-04T05:58:05.503802",
     "status": "completed"
    },
    "tags": []
   },
   "outputs": [],
   "source": [
    "early_stop <- callback_early_stopping(monitor = \"val_accuracy\", patience = 5, restore_best_weights = TRUE)\n",
    "\n",
    "history <- model %>% fit(\n",
    "  X_train, y_train,\n",
    "  epochs = 50,\n",
    "  batch_size = 128,\n",
    "  validation_data = list(X_val, y_val),\n",
    "  callbacks = list(early_stop)\n",
    ")\n"
   ]
  },
  {
   "cell_type": "code",
   "execution_count": 9,
   "id": "c1f9fc17",
   "metadata": {
    "execution": {
     "iopub.execute_input": "2025-06-04T06:08:41.918834Z",
     "iopub.status.busy": "2025-06-04T06:08:41.917196Z",
     "iopub.status.idle": "2025-06-04T06:08:42.826224Z",
     "shell.execute_reply": "2025-06-04T06:08:42.824337Z"
    },
    "papermill": {
     "duration": 0.969909,
     "end_time": "2025-06-04T06:08:42.828584",
     "exception": false,
     "start_time": "2025-06-04T06:08:41.858675",
     "status": "completed"
    },
    "tags": []
   },
   "outputs": [
    {
     "data": {
      "image/png": "[encoded data removed]"
     },
     "metadata": {
      "image/png": {
       "height": 420,
       "width": 420
      }
     },
     "output_type": "display_data"
    }
   ],
   "source": [
    "plot(history)\n"
   ]
  },
  {
   "cell_type": "markdown",
   "id": "8a3c312b",
   "metadata": {
    "papermill": {
     "duration": 0.004984,
     "end_time": "2025-06-04T06:08:42.838644",
     "exception": false,
     "start_time": "2025-06-04T06:08:42.833660",
     "status": "completed"
    },
    "tags": []
   },
   "source": [
    "Predicting & Submitting"
   ]
  },
  {
   "cell_type": "code",
   "execution_count": 10,
   "id": "e1bb3032",
   "metadata": {
    "execution": {
     "iopub.execute_input": "2025-06-04T06:08:42.852464Z",
     "iopub.status.busy": "2025-06-04T06:08:42.850839Z",
     "iopub.status.idle": "2025-06-04T06:08:53.228533Z",
     "shell.execute_reply": "2025-06-04T06:08:53.226659Z"
    },
    "papermill": {
     "duration": 10.387424,
     "end_time": "2025-06-04T06:08:53.231002",
     "exception": false,
     "start_time": "2025-06-04T06:08:42.843578",
     "status": "completed"
    },
    "tags": []
   },
   "outputs": [],
   "source": [
    "X_test <- as.matrix(test) / 255\n",
    "X_test <- array(X_test, dim = c(nrow(X_test), 28, 28, 1))\n",
    "\n",
    "predictions <- model %>% predict(X_test)\n",
    "predicted_labels <- apply(predictions, 1, which.max) - 1\n",
    "\n",
    "submission <- data.frame(ImageId = 1:nrow(test), Label = predicted_labels)\n",
    "write.csv(submission, \"submission.csv\", row.names = FALSE)\n"
   ]
  },
  {
   "cell_type": "code",
   "execution_count": null,
   "id": "d6819802",
   "metadata": {
    "papermill": {
     "duration": 0.004882,
     "end_time": "2025-06-04T06:08:53.241624",
     "exception": false,
     "start_time": "2025-06-04T06:08:53.236742",
     "status": "completed"
    },
    "tags": []
   },
   "outputs": [],
   "source": []
  }
 ],
 "metadata": {
  "kaggle": {
   "accelerator": "none",
   "dataSources": [
    {
     "databundleVersionId": 861823,
     "sourceId": 3004,
     "sourceType": "competition"
    }
   ],
   "dockerImageVersionId": 30749,
   "isGpuEnabled": false,
   "isInternetEnabled": true,
   "language": "r",
   "sourceType": "notebook"
  },
  "kernelspec": {
   "display_name": "R",
   "language": "R",
   "name": "ir"
  },
  "language_info": {
   "codemirror_mode": "r",
   "file_extension": ".r",
   "mimetype": "text/x-r-source",
   "name": "R",
   "pygments_lexer": "r",
   "version": "4.4.0"
  },
  "papermill": {
   "default_parameters": {},
   "duration": 690.905852,
   "end_time": "2025-06-04T06:08:53.768878",
   "environment_variables": {},
   "exception": null,
   "input_path": "__notebook__.ipynb",
   "output_path": "__notebook__.ipynb",
   "parameters": {},
   "start_time": "2025-06-04T05:57:22.863026",
   "version": "2.6.0"
  }
 },
 "nbformat": 4,
 "nbformat_minor": 5
}
